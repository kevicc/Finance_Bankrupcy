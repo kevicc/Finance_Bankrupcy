{
 "cells": [
  {
   "cell_type": "markdown",
   "metadata": {
    "id": "xFnfjUqYg9CK"
   },
   "source": [
    "## Data prep."
   ]
  },
  {
   "cell_type": "code",
   "execution_count": 41,
   "metadata": {
    "colab": {
     "base_uri": "https://localhost:8080/"
    },
    "id": "k-ZFgZOusrHL",
    "outputId": "9b169d04-d7a6-4145-add0-35236818e82c"
   },
   "outputs": [],
   "source": [
    "# import packages\n",
    "import pandas as pd\n",
    "import numpy as np\n",
    "from numpy import where\n",
    "from sklearn.impute import KNNImputer\n",
    "from collections import Counter\n",
    "from imblearn.over_sampling import SMOTE\n",
    "from imblearn.pipeline import Pipeline\n",
    "import matplotlib.pyplot as plt\n",
    "from sklearn.preprocessing import StandardScaler, MinMaxScaler\n",
    "from warnings import simplefilter\n",
    "simplefilter(action='ignore', category=FutureWarning)\n",
    "from sklearn.model_selection import train_test_split"
   ]
  },
  {
   "cell_type": "code",
   "execution_count": 42,
   "metadata": {
    "id": "Ybmq16v2Qd3a"
   },
   "outputs": [],
   "source": [
    "# connect the drive\n",
    "df = pd.read_excel('/content/drive/MyDrive/MMAI/Finance/Bankruptcy_data_Final.xlsx')\n",
    "#df = pd.read_csv('Bankruptcy_data_final.csv')"
   ]
  },
  {
   "cell_type": "code",
   "execution_count": 43,
   "metadata": {
    "colab": {
     "base_uri": "https://localhost:8080/",
     "height": 182
    },
    "id": "KVGH06WAReSO",
    "outputId": "6bcdc8da-c38b-4c53-f332-39fa575249d6"
   },
   "outputs": [
    {
     "name": "stdout",
     "output_type": "stream",
     "text": [
      "(92872, 13)\n"
     ]
    },
    {
     "data": {
      "text/html": [
       "<div>\n",
       "<style scoped>\n",
       "    .dataframe tbody tr th:only-of-type {\n",
       "        vertical-align: middle;\n",
       "    }\n",
       "\n",
       "    .dataframe tbody tr th {\n",
       "        vertical-align: top;\n",
       "    }\n",
       "\n",
       "    .dataframe thead th {\n",
       "        text-align: right;\n",
       "    }\n",
       "</style>\n",
       "<table border=\"1\" class=\"dataframe\">\n",
       "  <thead>\n",
       "    <tr style=\"text-align: right;\">\n",
       "      <th></th>\n",
       "      <th>EPS</th>\n",
       "      <th>Liquidity</th>\n",
       "      <th>Profitability</th>\n",
       "      <th>Productivity</th>\n",
       "      <th>Leverage Ratio</th>\n",
       "      <th>Asset Turnover</th>\n",
       "      <th>Operational Margin</th>\n",
       "      <th>Return on Equity</th>\n",
       "      <th>Market Book Ratio</th>\n",
       "      <th>Assets Growth</th>\n",
       "      <th>Sales Growth</th>\n",
       "      <th>Employee Growth</th>\n",
       "      <th>BK</th>\n",
       "    </tr>\n",
       "  </thead>\n",
       "  <tbody>\n",
       "    <tr>\n",
       "      <th>0</th>\n",
       "      <td>1.58</td>\n",
       "      <td>0.36</td>\n",
       "      <td>0.18</td>\n",
       "      <td>0.13</td>\n",
       "      <td>1.33</td>\n",
       "      <td>1.77</td>\n",
       "      <td>0.07</td>\n",
       "      <td>0.15</td>\n",
       "      <td>2.22</td>\n",
       "      <td>NaN</td>\n",
       "      <td>NaN</td>\n",
       "      <td>NaN</td>\n",
       "      <td>0</td>\n",
       "    </tr>\n",
       "    <tr>\n",
       "      <th>1</th>\n",
       "      <td>1.41</td>\n",
       "      <td>0.36</td>\n",
       "      <td>0.19</td>\n",
       "      <td>0.12</td>\n",
       "      <td>1.31</td>\n",
       "      <td>1.59</td>\n",
       "      <td>0.07</td>\n",
       "      <td>0.13</td>\n",
       "      <td>2.41</td>\n",
       "      <td>0.126</td>\n",
       "      <td>0.014</td>\n",
       "      <td>0.040</td>\n",
       "      <td>0</td>\n",
       "    </tr>\n",
       "    <tr>\n",
       "      <th>2</th>\n",
       "      <td>0.31</td>\n",
       "      <td>0.32</td>\n",
       "      <td>0.13</td>\n",
       "      <td>0.08</td>\n",
       "      <td>1.03</td>\n",
       "      <td>1.55</td>\n",
       "      <td>0.05</td>\n",
       "      <td>0.04</td>\n",
       "      <td>2.56</td>\n",
       "      <td>0.368</td>\n",
       "      <td>0.328</td>\n",
       "      <td>0.567</td>\n",
       "      <td>0</td>\n",
       "    </tr>\n",
       "  </tbody>\n",
       "</table>\n",
       "</div>"
      ],
      "text/plain": [
       "    EPS  Liquidity  Profitability  Productivity  Leverage Ratio  \\\n",
       "0  1.58       0.36           0.18          0.13            1.33   \n",
       "1  1.41       0.36           0.19          0.12            1.31   \n",
       "2  0.31       0.32           0.13          0.08            1.03   \n",
       "\n",
       "   Asset Turnover  Operational Margin  Return on Equity  Market Book Ratio  \\\n",
       "0            1.77                0.07              0.15               2.22   \n",
       "1            1.59                0.07              0.13               2.41   \n",
       "2            1.55                0.05              0.04               2.56   \n",
       "\n",
       "   Assets Growth  Sales Growth  Employee Growth  BK  \n",
       "0            NaN           NaN              NaN   0  \n",
       "1          0.126         0.014            0.040   0  \n",
       "2          0.368         0.328            0.567   0  "
      ]
     },
     "execution_count": 43,
     "metadata": {},
     "output_type": "execute_result"
    }
   ],
   "source": [
    "# look at shape\n",
    "print(df.shape)\n",
    "df.head(3)"
   ]
  },
  {
   "cell_type": "code",
   "execution_count": 44,
   "metadata": {
    "colab": {
     "base_uri": "https://localhost:8080/"
    },
    "id": "3yKM2EguruDm",
    "outputId": "340d1c86-548c-4b17-acde-520905157072"
   },
   "outputs": [
    {
     "name": "stdout",
     "output_type": "stream",
     "text": [
      "Full dataset target distribution...\n",
      "1: 558 , 0.00600826944611939\n",
      "0: 92314 , 0.9939917305538806\n"
     ]
    }
   ],
   "source": [
    "print('Full dataset target distribution...')\n",
    "print('1:', df['BK'][df['BK']==1].count(),',',df['BK'][df['BK']==1].count()/df['BK'].count() )\n",
    "print('0:', df['BK'][df['BK']==0].count(),',',df['BK'][df['BK']==0].count()/df['BK'].count() )"
   ]
  },
  {
   "cell_type": "code",
   "execution_count": 45,
   "metadata": {
    "colab": {
     "base_uri": "https://localhost:8080/"
    },
    "id": "HEvwL0hcRrzy",
    "outputId": "2caee49a-9030-43dc-c9b0-d5d0af83795d"
   },
   "outputs": [
    {
     "name": "stdout",
     "output_type": "stream",
     "text": [
      "Understanding columns...\n",
      "EPS :\n",
      "Total nulls: 5\n",
      "Min: -384000.0\n",
      "Max: 55339.0\n",
      "Drop the nulls for EPS \n",
      "\n",
      "Liquidity :\n",
      "Total nulls: 247\n",
      "Min: -25968.52\n",
      "Max: 1.0\n",
      "Use imputation for Liquidity \n",
      "\n",
      "Profitability :\n",
      "Total nulls: 247\n",
      "Min: -79682.0\n",
      "Max: 140.58\n",
      "Use imputation for Profitability \n",
      "\n",
      "Productivity :\n",
      "Total nulls: 247\n",
      "Min: -5093.0\n",
      "Max: 1102.0\n",
      "Use imputation for Productivity \n",
      "\n",
      "Leverage Ratio :\n",
      "Total nulls: 26\n",
      "Min: -7811.0\n",
      "Max: 75970.38\n",
      "Drop the nulls for Leverage Ratio \n",
      "\n",
      "Asset Turnover :\n",
      "Total nulls: 247\n",
      "Min: -31.59\n",
      "Max: 276.38\n",
      "Use imputation for Asset Turnover \n",
      "\n",
      "Operational Margin :\n",
      "Total nulls: 5557\n",
      "Min: -30175.7\n",
      "Max: 394.47\n",
      "Use imputation for Operational Margin \n",
      "\n",
      "Return on Equity :\n",
      "Total nulls: 8\n",
      "Min: -88875.14\n",
      "Max: 39500.0\n",
      "Drop the nulls for Return on Equity \n",
      "\n",
      "Market Book Ratio :\n",
      "Total nulls: 57\n",
      "Min: -3151500.0\n",
      "Max: 3455419.33\n",
      "Use imputation for Market Book Ratio \n",
      "\n",
      "Assets Growth :\n",
      "Total nulls: 6701\n",
      "Min: -1.0\n",
      "Max: 14231.0\n",
      "Use imputation for Assets Growth \n",
      "\n",
      "Sales Growth :\n",
      "Total nulls: 6701\n",
      "Min: -27.430999999999997\n",
      "Max: 39850.0\n",
      "Use imputation for Sales Growth \n",
      "\n",
      "Employee Growth :\n",
      "Total nulls: 7010\n",
      "Min: -1.0\n",
      "Max: 2699.0\n",
      "Use imputation for Employee Growth \n",
      "\n",
      "BK :\n",
      "Total nulls: 0\n",
      "Min: 0\n",
      "Max: 1\n",
      "All good for BK\n"
     ]
    }
   ],
   "source": [
    "# check out the columns\n",
    "print('Understanding columns...')\n",
    "for col in df.columns:\n",
    "  print(col,':')\n",
    "  print('Total nulls:',df[col].isnull().values.sum())\n",
    "  print('Min:',df[col].min())\n",
    "  print('Max:',df[col].max())\n",
    "  if df[col].isnull().values.sum() == 0:\n",
    "    print('All good for', col)\n",
    "  elif df[col].isnull().values.sum() <= 30:\n",
    "    print('Drop the nulls for', col,'\\n')\n",
    "  else:\n",
    "    print('Use imputation for', col,'\\n')"
   ]
  },
  {
   "cell_type": "code",
   "execution_count": 46,
   "metadata": {
    "colab": {
     "base_uri": "https://localhost:8080/"
    },
    "id": "ZHtIKiIWeMOb",
    "outputId": "d6825e99-eaa9-431a-f73f-36c3f20f67e3"
   },
   "outputs": [
    {
     "name": "stdout",
     "output_type": "stream",
     "text": [
      "All: (92872, 13)\n",
      "Nulls dropped where very few: (92839, 13)\n",
      "Outliers dropped, none were target or null = 1: (92805, 13)\n"
     ]
    }
   ],
   "source": [
    "# drop nulls where only a few missing on entire dataset\n",
    "# same thing with outliers\n",
    "print('All:',df.shape)\n",
    "df = df.dropna(subset=['Return on Equity','Leverage Ratio','EPS'])\n",
    "print('Nulls dropped where very few:',df.shape)\n",
    "\n",
    "# Remove outliers that are not 1 target anyways\n",
    "df_a = df[(df['Employee Growth']<=1000) | (df['Employee Growth'].isnull())] \n",
    "df_a = df_a[(df_a['Sales Growth']<=1000) | (df_a['Sales Growth'].isnull())] \n",
    "df_a = df_a[(df_a['Sales Growth']>=-10) | (df_a['Sales Growth'].isnull())] \n",
    "df_a = df_a[(df_a['Return on Equity']<=10000) | (df_a['Return on Equity'].isnull())] \n",
    "df_a = df_a[(df_a['Return on Equity']>=-25000) | (df_a['Return on Equity'].isnull())] \n",
    "df_a = df_a[(df_a['Operational Margin']<=11) | (df_a['Operational Margin'].isnull())] \n",
    "df_a = df_a[(df_a['Asset Turnover']>=-2) | (df_a['Asset Turnover'].isnull())]  \n",
    "df_a = df_a[(df_a['Leverage Ratio']<=3500) | (df_a['Leverage Ratio'].isnull())]\n",
    "df_a = df_a[(df_a['Leverage Ratio']>=-3500) | (df_a['Leverage Ratio'].isnull())]\n",
    "df_a = df_a[(df_a['Productivity']<=50) |  (df_a['Productivity'].isnull())]\n",
    "df_a = df_a[(df_a['Profitability']<=6) |  (df_a['Profitability'].isnull())]  \n",
    "df_a = df_a[(df_a['Liquidity']>=-15000)  |  (df_a['Liquidity'].isnull())]  \n",
    "print('Outliers dropped, none were target or null = 1:',df_a.shape)"
   ]
  },
  {
   "cell_type": "markdown",
   "metadata": {},
   "source": [
    "# Split Train/Test"
   ]
  },
  {
   "cell_type": "code",
   "execution_count": 67,
   "metadata": {
    "colab": {
     "base_uri": "https://localhost:8080/"
    },
    "id": "OstCRMoUqfVZ",
    "outputId": "b737a9eb-c1e1-4749-dc6c-3b3da8760271"
   },
   "outputs": [
    {
     "name": "stdout",
     "output_type": "stream",
     "text": [
      "Training: (78913, 12)\n",
      "Testing: (13926, 12)\n"
     ]
    }
   ],
   "source": [
    "# split training data\n",
    "y = df['BK']\n",
    "X = df.drop(columns=['BK'])\n",
    "\n",
    "X_train, X_test, y_train, y_test = train_test_split(X,y,test_size=0.15,\n",
    "                                                    random_state=42)\n",
    "print('Training:',X_train.shape)\n",
    "print('Testing:',X_test.shape)"
   ]
  },
  {
   "cell_type": "markdown",
   "metadata": {},
   "source": [
    "# Scale/Fill Missing Values/Sampling"
   ]
  },
  {
   "cell_type": "markdown",
   "metadata": {},
   "source": [
    "# Scale"
   ]
  },
  {
   "cell_type": "code",
   "execution_count": 68,
   "metadata": {},
   "outputs": [],
   "source": [
    "#mm_scaler = MinMaxScaler()\n",
    "scaler = PowerTransformer(method='yeo-johnson')\n",
    "X_train_scaled = scaler.fit_transform(X_train)"
   ]
  },
  {
   "cell_type": "markdown",
   "metadata": {},
   "source": [
    "# Fill Missing Values"
   ]
  },
  {
   "cell_type": "code",
   "execution_count": 69,
   "metadata": {},
   "outputs": [],
   "source": [
    "from sklearn.experimental import enable_iterative_imputer  \n",
    "from sklearn.impute import IterativeImputer\n",
    "imp = IterativeImputer(max_iter=10,random_state=42)\n",
    "imp.fit(X_train_scaled)\n",
    "X_train_imp = pd.DataFrame(imp.transform(X_train_scaled),columns=X_train.columns)"
   ]
  },
  {
   "cell_type": "code",
   "execution_count": 70,
   "metadata": {
    "colab": {
     "base_uri": "https://localhost:8080/",
     "height": 166
    },
    "id": "TBdQjNiBdQ4_",
    "outputId": "b6224901-bf0a-46bc-8bb5-6a0022e94f3b"
   },
   "outputs": [
    {
     "data": {
      "text/html": [
       "<div>\n",
       "<style scoped>\n",
       "    .dataframe tbody tr th:only-of-type {\n",
       "        vertical-align: middle;\n",
       "    }\n",
       "\n",
       "    .dataframe tbody tr th {\n",
       "        vertical-align: top;\n",
       "    }\n",
       "\n",
       "    .dataframe thead th {\n",
       "        text-align: right;\n",
       "    }\n",
       "</style>\n",
       "<table border=\"1\" class=\"dataframe\">\n",
       "  <thead>\n",
       "    <tr style=\"text-align: right;\">\n",
       "      <th></th>\n",
       "      <th>EPS</th>\n",
       "      <th>Liquidity</th>\n",
       "      <th>Profitability</th>\n",
       "      <th>Productivity</th>\n",
       "      <th>Leverage Ratio</th>\n",
       "      <th>Asset Turnover</th>\n",
       "      <th>Operational Margin</th>\n",
       "      <th>Return on Equity</th>\n",
       "      <th>Market Book Ratio</th>\n",
       "      <th>Assets Growth</th>\n",
       "      <th>Sales Growth</th>\n",
       "      <th>Employee Growth</th>\n",
       "    </tr>\n",
       "  </thead>\n",
       "  <tbody>\n",
       "    <tr>\n",
       "      <th>0</th>\n",
       "      <td>-0.001093</td>\n",
       "      <td>-0.880589</td>\n",
       "      <td>0.029763</td>\n",
       "      <td>0.033980</td>\n",
       "      <td>0.000414</td>\n",
       "      <td>-1.003668</td>\n",
       "      <td>0.064453</td>\n",
       "      <td>0.002951</td>\n",
       "      <td>-0.013589</td>\n",
       "      <td>-0.065850</td>\n",
       "      <td>-0.028484</td>\n",
       "      <td>-0.066348</td>\n",
       "    </tr>\n",
       "    <tr>\n",
       "      <th>1</th>\n",
       "      <td>0.000297</td>\n",
       "      <td>-0.092123</td>\n",
       "      <td>0.160495</td>\n",
       "      <td>0.036459</td>\n",
       "      <td>0.000035</td>\n",
       "      <td>0.731348</td>\n",
       "      <td>0.061243</td>\n",
       "      <td>0.003369</td>\n",
       "      <td>-0.016493</td>\n",
       "      <td>0.327063</td>\n",
       "      <td>0.024412</td>\n",
       "      <td>0.498914</td>\n",
       "    </tr>\n",
       "    <tr>\n",
       "      <th>2</th>\n",
       "      <td>-0.000723</td>\n",
       "      <td>-0.035140</td>\n",
       "      <td>0.111262</td>\n",
       "      <td>0.035838</td>\n",
       "      <td>0.005629</td>\n",
       "      <td>1.127889</td>\n",
       "      <td>0.060608</td>\n",
       "      <td>0.003189</td>\n",
       "      <td>-0.016380</td>\n",
       "      <td>-0.039046</td>\n",
       "      <td>0.024061</td>\n",
       "      <td>0.004879</td>\n",
       "    </tr>\n",
       "  </tbody>\n",
       "</table>\n",
       "</div>"
      ],
      "text/plain": [
       "        EPS  Liquidity  Profitability  Productivity  Leverage Ratio  \\\n",
       "0 -0.001093  -0.880589       0.029763      0.033980        0.000414   \n",
       "1  0.000297  -0.092123       0.160495      0.036459        0.000035   \n",
       "2 -0.000723  -0.035140       0.111262      0.035838        0.005629   \n",
       "\n",
       "   Asset Turnover  Operational Margin  Return on Equity  Market Book Ratio  \\\n",
       "0       -1.003668            0.064453          0.002951          -0.013589   \n",
       "1        0.731348            0.061243          0.003369          -0.016493   \n",
       "2        1.127889            0.060608          0.003189          -0.016380   \n",
       "\n",
       "   Assets Growth  Sales Growth  Employee Growth  \n",
       "0      -0.065850     -0.028484        -0.066348  \n",
       "1       0.327063      0.024412         0.498914  \n",
       "2      -0.039046      0.024061         0.004879  "
      ]
     },
     "execution_count": 70,
     "metadata": {},
     "output_type": "execute_result"
    }
   ],
   "source": [
    "# look at the imputed version\n",
    "X_train_imp.head(3)"
   ]
  },
  {
   "cell_type": "code",
   "execution_count": 71,
   "metadata": {
    "colab": {
     "base_uri": "https://localhost:8080/"
    },
    "id": "ic6dzSGJrahi",
    "outputId": "a4a604b3-a4fd-4e30-80b6-bbb05d8288c0"
   },
   "outputs": [
    {
     "name": "stdout",
     "output_type": "stream",
     "text": [
      "Training distribution: Counter({0: 78438, 1: 475})\n",
      "1: 0.006019287062968079\n",
      "0: 0.9939807129370319\n",
      "Testing distribution: Counter({0: 13847, 1: 79})\n",
      "1: 0.005672842165733161\n",
      "0: 0.9943271578342668\n"
     ]
    }
   ],
   "source": [
    "# see shapes\n",
    "counter = Counter(y_train)\n",
    "print('Training distribution:',counter)\n",
    "print('1:', y_train[y_train==1].count()/y_train.count() )\n",
    "print('0:', y_train[y_train==0].count()/y_train.count() )\n",
    "\n",
    "ycounter = Counter(y_test)\n",
    "print('Testing distribution:',ycounter)\n",
    "print('1:', y_test[y_test==1].count()/y_test.count() )\n",
    "print('0:', y_test[y_test==0].count()/y_test.count() )"
   ]
  },
  {
   "cell_type": "markdown",
   "metadata": {},
   "source": [
    "# Oversampling"
   ]
  },
  {
   "cell_type": "code",
   "execution_count": 72,
   "metadata": {
    "colab": {
     "base_uri": "https://localhost:8080/"
    },
    "id": "kV51QwrAfu55",
    "outputId": "84e74bb3-7cb4-48c3-dedf-d0df55e7641e"
   },
   "outputs": [
    {
     "name": "stdout",
     "output_type": "stream",
     "text": [
      "New distribution: Counter({0: 78438, 1: 3921})\n"
     ]
    }
   ],
   "source": [
    "# transform the training dataset with smote /and under sampling\n",
    "oversample = SMOTE(sampling_strategy=0.05) #.1\n",
    "X_smote, y_smote = oversample.fit_resample(X_train_imp, y_train)\n",
    "counter = Counter(y_smote)\n",
    "print('New distribution:',counter)\n"
   ]
  },
  {
   "cell_type": "code",
   "execution_count": 73,
   "metadata": {
    "id": "B5WCcuBliuHN"
   },
   "outputs": [],
   "source": [
    "# New features\n",
    "def pos(x):\n",
    "  if x > 0:\n",
    "    y = 1\n",
    "  else: \n",
    "    y = 0\n",
    "  return y\n",
    "\n",
    "def beyond_one(x):\n",
    "  if x >= 1:\n",
    "    y = 1\n",
    "  else: \n",
    "    y = 0\n",
    "  return y"
   ]
  },
  {
   "cell_type": "markdown",
   "metadata": {
    "id": "F1zbXY8Jg6IB"
   },
   "source": [
    "## Modeling"
   ]
  },
  {
   "cell_type": "code",
   "execution_count": 74,
   "metadata": {
    "id": "ZdcAzXyhhXMB"
   },
   "outputs": [],
   "source": [
    "# import packages\n",
    "from sklearn.model_selection import train_test_split\n",
    "from sklearn.ensemble import RandomForestClassifier\n",
    "from sklearn.model_selection import GridSearchCV\n",
    "from sklearn.metrics import confusion_matrix, classification_report\n",
    "from sklearn.pipeline import Pipeline\n",
    "from sklearn.preprocessing import PowerTransformer, MinMaxScaler\n",
    "# from sklearn.feature_selection import RFE"
   ]
  },
  {
   "cell_type": "code",
   "execution_count": 75,
   "metadata": {
    "colab": {
     "base_uri": "https://localhost:8080/"
    },
    "id": "hwlcxBkgmi4N",
    "outputId": "6426c4a4-ab5f-4040-d785-7c1c055e7ed2"
   },
   "outputs": [
    {
     "name": "stdout",
     "output_type": "stream",
     "text": [
      "\n",
      "\n",
      "Best Score: 0.993357616294308 \n",
      "\n",
      "Best parameters: {'rf__criterion': 'entropy'}\n"
     ]
    }
   ],
   "source": [
    "# try a model to make sure cleaned ok for next team member\n",
    "#stnd_scaler = StandardScaler()\n",
    "\n",
    "Pipe= Pipeline([('rf', RandomForestClassifier())])\n",
    "param_grid = {'rf__criterion': ['entropy']\n",
    "              }\n",
    "model = GridSearchCV(Pipe,param_grid,cv=5,scoring='roc_auc',n_jobs=-1)\n",
    "model.fit(X_smote,y_smote) #X_smote, y_smote\n",
    "print('\\n\\nBest Score:', model.best_score_,'\\n')\n",
    "print('Best parameters:', model.best_params_)"
   ]
  },
  {
   "cell_type": "code",
   "execution_count": 86,
   "metadata": {
    "colab": {
     "base_uri": "https://localhost:8080/"
    },
    "id": "5oa5Y23Rtjk9",
    "outputId": "f9f5f7f5-7191-4a20-a010-ce063c451075"
   },
   "outputs": [
    {
     "name": "stdout",
     "output_type": "stream",
     "text": [
      "Confusion matrix:\n",
      " [[9698 4149]\n",
      " [   3   76]]\n",
      "\n",
      "Classification report:\n",
      "               precision    recall  f1-score   support\n",
      "\n",
      "           0       1.00      0.70      0.82     13847\n",
      "           1       0.02      0.96      0.04        79\n",
      "\n",
      "    accuracy                           0.70     13926\n",
      "   macro avg       0.51      0.83      0.43     13926\n",
      "weighted avg       0.99      0.70      0.82     13926\n",
      "\n",
      "AUC Score: 0.8311968136405727\n"
     ]
    }
   ],
   "source": [
    "from sklearn.metrics import roc_auc_score\n",
    "'''\n",
    "nan = np.nan\n",
    "imputer = KNNImputer(n_neighbors=4, weights=\"distance\") \n",
    "v_array_imputed = imputer.fit_transform(X_test)\n",
    "X_test_imp = pd.DataFrame(v_array_imputed, columns = X_test.columns)\n",
    "print('Any nulls left?:', X_test_imp.isnull().values.sum(),'\\n')\n",
    "print('Testing shape:',X_test_imp.shape,'\\n')\n",
    "'''\n",
    "\n",
    "#impute with iterative imputer and add features\n",
    "X_test_scaled = scaler.transform(X_test)\n",
    "X_test_imp = imp.transform(X_test_scaled)\n",
    "X_test_imp  = pd.DataFrame(X_test_imp , columns = X_test.columns )\n",
    "#X_test_imp['Sales_More_Assets'] = (X_test_imp['Sales Growth'] - X_test_imp['Assets Growth']).apply(pos)\n",
    "#X_test_imp['Pos_Liquidity'] = X_test_imp['Liquidity'].apply(pos)\n",
    "#X_test_imp['Pos_Profitability'] = X_test_imp['Profitability'].apply(pos)\n",
    "#X_test_imp['High_Leverage'] = X_test_imp['Leverage Ratio'].apply(beyond_one)\n",
    "\n",
    "#predict\n",
    "pred = model.predict_proba(X_test_imp)[:,1]\n",
    "threshold = 0.009\n",
    "print('Confusion matrix:\\n',confusion_matrix(y_test, pred>threshold))\n",
    "print('\\nClassification report:\\n',classification_report(y_test, pred>threshold))\n",
    "print (f'AUC Score: {roc_auc_score(y_test,pred>threshold)}')\n",
    "# prooving credit upfront -> recall\n",
    "# else precision"
   ]
  },
  {
   "cell_type": "code",
   "execution_count": null,
   "metadata": {},
   "outputs": [],
   "source": []
  }
 ],
 "metadata": {
  "accelerator": "GPU",
  "colab": {
   "collapsed_sections": [],
   "name": "Finance_Imputation_Modeling.ipynb",
   "provenance": []
  },
  "kernelspec": {
   "display_name": "Python 3",
   "language": "python",
   "name": "python3"
  },
  "language_info": {
   "codemirror_mode": {
    "name": "ipython",
    "version": 3
   },
   "file_extension": ".py",
   "mimetype": "text/x-python",
   "name": "python",
   "nbconvert_exporter": "python",
   "pygments_lexer": "ipython3",
   "version": "3.8.5"
  }
 },
 "nbformat": 4,
 "nbformat_minor": 1
}
