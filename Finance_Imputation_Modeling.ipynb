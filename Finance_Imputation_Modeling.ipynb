{
  "nbformat": 4,
  "nbformat_minor": 0,
  "metadata": {
    "accelerator": "GPU",
    "colab": {
      "name": "Finance_Imputation_Modeling.ipynb",
      "provenance": [],
      "collapsed_sections": []
    },
    "kernelspec": {
      "display_name": "Python 3",
      "name": "python3"
    },
    "language_info": {
      "name": "python"
    }
  },
  "cells": [
    {
      "cell_type": "markdown",
      "metadata": {
        "id": "xFnfjUqYg9CK"
      },
      "source": [
        "## Data prep."
      ]
    },
    {
      "cell_type": "code",
      "metadata": {
        "colab": {
          "base_uri": "https://localhost:8080/"
        },
        "id": "k-ZFgZOusrHL",
        "outputId": "da2c5ab6-0fde-43f5-c475-3ef5fc38b310"
      },
      "source": [
        "# import packages\n",
        "import pandas as pd\n",
        "import numpy as np\n",
        "from numpy import where\n",
        "from sklearn.impute import KNNImputer\n",
        "from collections import Counter\n",
        "from imblearn.over_sampling import SMOTE\n",
        "from imblearn.under_sampling import RandomUnderSampler\n",
        "from imblearn.pipeline import Pipeline\n",
        "import matplotlib.pyplot as plt\n",
        "from sklearn.preprocessing import StandardScaler, MinMaxScaler\n",
        "from warnings import simplefilter\n",
        "simplefilter(action='ignore', category=FutureWarning)\n",
        "from sklearn.model_selection import train_test_split"
      ],
      "execution_count": 1,
      "outputs": [
        {
          "output_type": "stream",
          "text": [
            "/usr/local/lib/python3.7/dist-packages/sklearn/externals/six.py:31: FutureWarning: The module is deprecated in version 0.21 and will be removed in version 0.23 since we've dropped support for Python 2.7. Please rely on the official version of six (https://pypi.org/project/six/).\n",
            "  \"(https://pypi.org/project/six/).\", FutureWarning)\n",
            "/usr/local/lib/python3.7/dist-packages/sklearn/utils/deprecation.py:144: FutureWarning: The sklearn.neighbors.base module is  deprecated in version 0.22 and will be removed in version 0.24. The corresponding classes / functions should instead be imported from sklearn.neighbors. Anything that cannot be imported from sklearn.neighbors is now part of the private API.\n",
            "  warnings.warn(message, FutureWarning)\n"
          ],
          "name": "stderr"
        }
      ]
    },
    {
      "cell_type": "code",
      "metadata": {
        "id": "Ybmq16v2Qd3a"
      },
      "source": [
        "# connect the drive\n",
        "df = pd.read_excel('/content/drive/MyDrive/MMAI/Finance/Bankruptcy_data_Final.xlsx')"
      ],
      "execution_count": 2,
      "outputs": []
    },
    {
      "cell_type": "code",
      "metadata": {
        "colab": {
          "base_uri": "https://localhost:8080/",
          "height": 166
        },
        "id": "KVGH06WAReSO",
        "outputId": "b194e3eb-a873-437b-cf0e-a90cbe1537a6"
      },
      "source": [
        "# look at shape\n",
        "print(df.shape)\n",
        "df.head(3)"
      ],
      "execution_count": 38,
      "outputs": [
        {
          "output_type": "stream",
          "text": [
            "(92872, 13)\n"
          ],
          "name": "stdout"
        },
        {
          "output_type": "execute_result",
          "data": {
            "text/html": [
              "<div>\n",
              "<style scoped>\n",
              "    .dataframe tbody tr th:only-of-type {\n",
              "        vertical-align: middle;\n",
              "    }\n",
              "\n",
              "    .dataframe tbody tr th {\n",
              "        vertical-align: top;\n",
              "    }\n",
              "\n",
              "    .dataframe thead th {\n",
              "        text-align: right;\n",
              "    }\n",
              "</style>\n",
              "<table border=\"1\" class=\"dataframe\">\n",
              "  <thead>\n",
              "    <tr style=\"text-align: right;\">\n",
              "      <th></th>\n",
              "      <th>EPS</th>\n",
              "      <th>Liquidity</th>\n",
              "      <th>Profitability</th>\n",
              "      <th>Productivity</th>\n",
              "      <th>Leverage Ratio</th>\n",
              "      <th>Asset Turnover</th>\n",
              "      <th>Operational Margin</th>\n",
              "      <th>Return on Equity</th>\n",
              "      <th>Market Book Ratio</th>\n",
              "      <th>Assets Growth</th>\n",
              "      <th>Sales Growth</th>\n",
              "      <th>Employee Growth</th>\n",
              "      <th>BK</th>\n",
              "    </tr>\n",
              "  </thead>\n",
              "  <tbody>\n",
              "    <tr>\n",
              "      <th>0</th>\n",
              "      <td>1.58</td>\n",
              "      <td>0.36</td>\n",
              "      <td>0.18</td>\n",
              "      <td>0.13</td>\n",
              "      <td>1.33</td>\n",
              "      <td>1.77</td>\n",
              "      <td>0.07</td>\n",
              "      <td>0.15</td>\n",
              "      <td>2.22</td>\n",
              "      <td>NaN</td>\n",
              "      <td>NaN</td>\n",
              "      <td>NaN</td>\n",
              "      <td>0</td>\n",
              "    </tr>\n",
              "    <tr>\n",
              "      <th>1</th>\n",
              "      <td>1.41</td>\n",
              "      <td>0.36</td>\n",
              "      <td>0.19</td>\n",
              "      <td>0.12</td>\n",
              "      <td>1.31</td>\n",
              "      <td>1.59</td>\n",
              "      <td>0.07</td>\n",
              "      <td>0.13</td>\n",
              "      <td>2.41</td>\n",
              "      <td>0.126319</td>\n",
              "      <td>0.014278</td>\n",
              "      <td>0.040179</td>\n",
              "      <td>0</td>\n",
              "    </tr>\n",
              "    <tr>\n",
              "      <th>2</th>\n",
              "      <td>0.31</td>\n",
              "      <td>0.32</td>\n",
              "      <td>0.13</td>\n",
              "      <td>0.08</td>\n",
              "      <td>1.03</td>\n",
              "      <td>1.55</td>\n",
              "      <td>0.05</td>\n",
              "      <td>0.04</td>\n",
              "      <td>2.56</td>\n",
              "      <td>0.368077</td>\n",
              "      <td>0.327909</td>\n",
              "      <td>0.566524</td>\n",
              "      <td>0</td>\n",
              "    </tr>\n",
              "  </tbody>\n",
              "</table>\n",
              "</div>"
            ],
            "text/plain": [
              "    EPS  Liquidity  Profitability  ...  Sales Growth  Employee Growth  BK\n",
              "0  1.58       0.36           0.18  ...           NaN              NaN   0\n",
              "1  1.41       0.36           0.19  ...      0.014278         0.040179   0\n",
              "2  0.31       0.32           0.13  ...      0.327909         0.566524   0\n",
              "\n",
              "[3 rows x 13 columns]"
            ]
          },
          "metadata": {
            "tags": []
          },
          "execution_count": 38
        }
      ]
    },
    {
      "cell_type": "code",
      "metadata": {
        "colab": {
          "base_uri": "https://localhost:8080/"
        },
        "id": "3yKM2EguruDm",
        "outputId": "a3f9a4ac-74db-4663-8d6c-d3fa9a2f4e99"
      },
      "source": [
        "print('Full dataset target distribution...')\n",
        "print('1:', df['BK'][df['BK']==1].count(),',',df['BK'][df['BK']==1].count()/df['BK'].count() )\n",
        "print('0:', df['BK'][df['BK']==0].count(),',',df['BK'][df['BK']==0].count()/df['BK'].count() )"
      ],
      "execution_count": 39,
      "outputs": [
        {
          "output_type": "stream",
          "text": [
            "Full dataset target distribution...\n",
            "1: 558 , 0.00600826944611939\n",
            "0: 92314 , 0.9939917305538806\n"
          ],
          "name": "stdout"
        }
      ]
    },
    {
      "cell_type": "code",
      "metadata": {
        "colab": {
          "base_uri": "https://localhost:8080/"
        },
        "id": "HEvwL0hcRrzy",
        "outputId": "ecf9130b-3102-4b42-c181-5dcb5eed7f8a"
      },
      "source": [
        "# check out the columns\n",
        "print('Understanding columns...')\n",
        "for col in df.columns:\n",
        "  print(col,':')\n",
        "  print('Total nulls:',df[col].isnull().values.sum())\n",
        "  print('Min:',df[col].min())\n",
        "  print('Max:',df[col].max())\n",
        "  if df[col].isnull().values.sum() == 0:\n",
        "    print('All good for', col)\n",
        "  elif df[col].isnull().values.sum() <= 30:\n",
        "    print('Drop the nulls for', col,'\\n')\n",
        "  else:\n",
        "    print('Use imputation for', col,'\\n')"
      ],
      "execution_count": 40,
      "outputs": [
        {
          "output_type": "stream",
          "text": [
            "Understanding columns...\n",
            "EPS :\n",
            "Total nulls: 5\n",
            "Min: -384000.0\n",
            "Max: 55339.0\n",
            "Drop the nulls for EPS \n",
            "\n",
            "Liquidity :\n",
            "Total nulls: 247\n",
            "Min: -25968.52\n",
            "Max: 1.0\n",
            "Use imputation for Liquidity \n",
            "\n",
            "Profitability :\n",
            "Total nulls: 247\n",
            "Min: -79682.0\n",
            "Max: 140.58\n",
            "Use imputation for Profitability \n",
            "\n",
            "Productivity :\n",
            "Total nulls: 247\n",
            "Min: -5093.0\n",
            "Max: 1102.0\n",
            "Use imputation for Productivity \n",
            "\n",
            "Leverage Ratio :\n",
            "Total nulls: 26\n",
            "Min: -7811.0\n",
            "Max: 75970.38\n",
            "Drop the nulls for Leverage Ratio \n",
            "\n",
            "Asset Turnover :\n",
            "Total nulls: 247\n",
            "Min: -31.59\n",
            "Max: 276.38\n",
            "Use imputation for Asset Turnover \n",
            "\n",
            "Operational Margin :\n",
            "Total nulls: 5557\n",
            "Min: -30175.7\n",
            "Max: 394.47\n",
            "Use imputation for Operational Margin \n",
            "\n",
            "Return on Equity :\n",
            "Total nulls: 8\n",
            "Min: -88875.14\n",
            "Max: 39500.0\n",
            "Drop the nulls for Return on Equity \n",
            "\n",
            "Market Book Ratio :\n",
            "Total nulls: 57\n",
            "Min: -3151500.0\n",
            "Max: 3455419.33\n",
            "Use imputation for Market Book Ratio \n",
            "\n",
            "Assets Growth :\n",
            "Total nulls: 6701\n",
            "Min: -1.0\n",
            "Max: 14231.0\n",
            "Use imputation for Assets Growth \n",
            "\n",
            "Sales Growth :\n",
            "Total nulls: 6701\n",
            "Min: -27.43103448275862\n",
            "Max: 39850.0\n",
            "Use imputation for Sales Growth \n",
            "\n",
            "Employee Growth :\n",
            "Total nulls: 7010\n",
            "Min: -1.0\n",
            "Max: 2699.0\n",
            "Use imputation for Employee Growth \n",
            "\n",
            "BK :\n",
            "Total nulls: 0\n",
            "Min: 0\n",
            "Max: 1\n",
            "All good for BK\n"
          ],
          "name": "stdout"
        }
      ]
    },
    {
      "cell_type": "code",
      "metadata": {
        "colab": {
          "base_uri": "https://localhost:8080/"
        },
        "id": "5ob2gtFbUYDk",
        "outputId": "8a5b5faa-566e-4576-a9ac-4bbdad3d816f"
      },
      "source": [
        "# drop nulls where only a few missing on entire dataset\n",
        "df_a = df.dropna(subset=['Return on Equity','Leverage Ratio','EPS'])\n",
        "print(df_a.shape)"
      ],
      "execution_count": 54,
      "outputs": [
        {
          "output_type": "stream",
          "text": [
            "(92839, 13)\n"
          ],
          "name": "stdout"
        }
      ]
    },
    {
      "cell_type": "code",
      "metadata": {
        "id": "OstCRMoUqfVZ"
      },
      "source": [
        "# randomized train and test split early on\n",
        "validation_test = df_a.sample(frac = 0.2)\n",
        "training = df_a.drop(validation_test.index)"
      ],
      "execution_count": 42,
      "outputs": []
    },
    {
      "cell_type": "code",
      "metadata": {
        "colab": {
          "base_uri": "https://localhost:8080/"
        },
        "id": "vBdAfTZhaEKV",
        "outputId": "6a02b9be-bb22-4172-8b54-f531bec19235"
      },
      "source": [
        "# impute the training only\n",
        "nan = np.nan\n",
        "imputer = KNNImputer(n_neighbors=7, weights=\"uniform\")\n",
        "array_imputed = imputer.fit_transform(training)\n",
        "training_imputed = pd.DataFrame(array_imputed, columns = training.columns)\n",
        "print('Any nulls left?:',training_imputed.isnull().values.sum())"
      ],
      "execution_count": 51,
      "outputs": [
        {
          "output_type": "stream",
          "text": [
            "Any nulls left?: 0\n"
          ],
          "name": "stdout"
        }
      ]
    },
    {
      "cell_type": "code",
      "metadata": {
        "colab": {
          "base_uri": "https://localhost:8080/",
          "height": 150
        },
        "id": "TBdQjNiBdQ4_",
        "outputId": "ebbd2c95-df41-4565-dc1a-002aba28901c"
      },
      "source": [
        "# look at the imputed version\n",
        "training_imputed.head(3)"
      ],
      "execution_count": 44,
      "outputs": [
        {
          "output_type": "execute_result",
          "data": {
            "text/html": [
              "<div>\n",
              "<style scoped>\n",
              "    .dataframe tbody tr th:only-of-type {\n",
              "        vertical-align: middle;\n",
              "    }\n",
              "\n",
              "    .dataframe tbody tr th {\n",
              "        vertical-align: top;\n",
              "    }\n",
              "\n",
              "    .dataframe thead th {\n",
              "        text-align: right;\n",
              "    }\n",
              "</style>\n",
              "<table border=\"1\" class=\"dataframe\">\n",
              "  <thead>\n",
              "    <tr style=\"text-align: right;\">\n",
              "      <th></th>\n",
              "      <th>EPS</th>\n",
              "      <th>Liquidity</th>\n",
              "      <th>Profitability</th>\n",
              "      <th>Productivity</th>\n",
              "      <th>Leverage Ratio</th>\n",
              "      <th>Asset Turnover</th>\n",
              "      <th>Operational Margin</th>\n",
              "      <th>Return on Equity</th>\n",
              "      <th>Market Book Ratio</th>\n",
              "      <th>Assets Growth</th>\n",
              "      <th>Sales Growth</th>\n",
              "      <th>Employee Growth</th>\n",
              "      <th>BK</th>\n",
              "    </tr>\n",
              "  </thead>\n",
              "  <tbody>\n",
              "    <tr>\n",
              "      <th>0</th>\n",
              "      <td>1.58</td>\n",
              "      <td>0.36</td>\n",
              "      <td>0.18</td>\n",
              "      <td>0.13</td>\n",
              "      <td>1.33</td>\n",
              "      <td>1.77</td>\n",
              "      <td>0.07</td>\n",
              "      <td>0.15</td>\n",
              "      <td>2.22</td>\n",
              "      <td>0.094558</td>\n",
              "      <td>-0.002294</td>\n",
              "      <td>0.020610</td>\n",
              "      <td>0.0</td>\n",
              "    </tr>\n",
              "    <tr>\n",
              "      <th>1</th>\n",
              "      <td>1.41</td>\n",
              "      <td>0.36</td>\n",
              "      <td>0.19</td>\n",
              "      <td>0.12</td>\n",
              "      <td>1.31</td>\n",
              "      <td>1.59</td>\n",
              "      <td>0.07</td>\n",
              "      <td>0.13</td>\n",
              "      <td>2.41</td>\n",
              "      <td>0.126319</td>\n",
              "      <td>0.014278</td>\n",
              "      <td>0.040179</td>\n",
              "      <td>0.0</td>\n",
              "    </tr>\n",
              "    <tr>\n",
              "      <th>2</th>\n",
              "      <td>0.31</td>\n",
              "      <td>0.32</td>\n",
              "      <td>0.13</td>\n",
              "      <td>0.08</td>\n",
              "      <td>1.03</td>\n",
              "      <td>1.55</td>\n",
              "      <td>0.05</td>\n",
              "      <td>0.04</td>\n",
              "      <td>2.56</td>\n",
              "      <td>0.368077</td>\n",
              "      <td>0.327909</td>\n",
              "      <td>0.566524</td>\n",
              "      <td>0.0</td>\n",
              "    </tr>\n",
              "  </tbody>\n",
              "</table>\n",
              "</div>"
            ],
            "text/plain": [
              "    EPS  Liquidity  Profitability  ...  Sales Growth  Employee Growth   BK\n",
              "0  1.58       0.36           0.18  ...     -0.002294         0.020610  0.0\n",
              "1  1.41       0.36           0.19  ...      0.014278         0.040179  0.0\n",
              "2  0.31       0.32           0.13  ...      0.327909         0.566524  0.0\n",
              "\n",
              "[3 rows x 13 columns]"
            ]
          },
          "metadata": {
            "tags": []
          },
          "execution_count": 44
        }
      ]
    },
    {
      "cell_type": "code",
      "metadata": {
        "colab": {
          "base_uri": "https://localhost:8080/"
        },
        "id": "5xE6l2V7Q345",
        "outputId": "5956440b-c585-44c3-df0c-cfe307386e97"
      },
      "source": [
        "# split training data\n",
        "y_train = training_imputed['BK']\n",
        "X_train = training_imputed.drop(columns=[#'Operational Margin','Assets Growth',\\\n",
        "                                 # 'Employee Growth','Sales Growth',\n",
        "                                 'BK'])\n",
        "print('Training:',X_train.shape)"
      ],
      "execution_count": 45,
      "outputs": [
        {
          "output_type": "stream",
          "text": [
            "Training: (74271, 12)\n",
            "Testing: (9284, 12)\n",
            "Validation: (9284, 12)\n"
          ],
          "name": "stdout"
        }
      ]
    },
    {
      "cell_type": "code",
      "metadata": {
        "colab": {
          "base_uri": "https://localhost:8080/"
        },
        "id": "ic6dzSGJrahi",
        "outputId": "df1d82b1-f490-40c5-a95c-c7b2c7bae84b"
      },
      "source": [
        "# see shapes\n",
        "counter = Counter(y_train)\n",
        "print('Training distribution:',counter)\n",
        "print('1:', y_train[y_train==1].count()/y_train.count() )\n",
        "print('0:', y_train[y_train==0].count()/y_train.count() )"
      ],
      "execution_count": 46,
      "outputs": [
        {
          "output_type": "stream",
          "text": [
            "Training distribution: Counter({0.0: 73833, 1.0: 438})\n",
            "1: 0.005897321969543967\n",
            "0: 0.994102678030456\n"
          ],
          "name": "stdout"
        }
      ]
    },
    {
      "cell_type": "code",
      "metadata": {
        "colab": {
          "base_uri": "https://localhost:8080/"
        },
        "id": "kV51QwrAfu55",
        "outputId": "326e3766-5641-4efa-de50-9da3206d32ef"
      },
      "source": [
        "# transform the dataset with smote /and under sampling\n",
        "oversample = SMOTE(sampling_strategy=0.1)\n",
        "X_smote, y_smote = oversample.fit_resample(X_train, y_train)\n",
        "counter = Counter(y_smote)\n",
        "print('New distribution:',counter)\n",
        "undersample = RandomUnderSampler(sampling_strategy=0.3)\n",
        "X_smote_under, y_smote_under = undersample.fit_resample(X_smote, y_smote)\n",
        "counter = Counter(y_smote_under)\n",
        "print('New distribution:',counter)"
      ],
      "execution_count": 47,
      "outputs": [
        {
          "output_type": "stream",
          "text": [
            "New distribution: Counter({0.0: 73833, 1.0: 7383})\n",
            "New distribution: Counter({0.0: 24610, 1.0: 7383})\n"
          ],
          "name": "stdout"
        }
      ]
    },
    {
      "cell_type": "markdown",
      "metadata": {
        "id": "F1zbXY8Jg6IB"
      },
      "source": [
        "## Modeling"
      ]
    },
    {
      "cell_type": "code",
      "metadata": {
        "id": "ZdcAzXyhhXMB"
      },
      "source": [
        "# import packages\n",
        "from sklearn.model_selection import train_test_split\n",
        "from sklearn.neighbors import KNeighborsClassifier\n",
        "from sklearn.ensemble import RandomForestClassifier\n",
        "from sklearn.model_selection import GridSearchCV\n",
        "from sklearn.metrics import confusion_matrix, classification_report\n",
        "from sklearn.pipeline import Pipeline\n",
        "#from sklearn.feature_selection import RFE"
      ],
      "execution_count": 48,
      "outputs": []
    },
    {
      "cell_type": "code",
      "metadata": {
        "colab": {
          "base_uri": "https://localhost:8080/"
        },
        "id": "hwlcxBkgmi4N",
        "outputId": "496c3527-155c-45c3-e2fa-00e565d2dc7c"
      },
      "source": [
        "# try a model to make sure cleaned ok for next team member\n",
        "stnd_scaler = StandardScaler()\n",
        "mm_scaler = MinMaxScaler()\n",
        "rf = RandomForestClassifier()\n",
        "\n",
        "Pipe= Pipeline([('scale',mm_scaler),\n",
        "                   ('rf', rf)\n",
        "                   ])\n",
        "param_grid = {'rf__criterion': ('gini','entropy')\n",
        "              }\n",
        "model = GridSearchCV(Pipe,param_grid,cv=10,scoring='f1_micro')\n",
        "model.fit(X_smote_under,y_smote_under)\n",
        "print('\\n\\nBest Score:', model.best_score_,'\\n')\n",
        "print('Best parameters:', model.best_params_)"
      ],
      "execution_count": 49,
      "outputs": [
        {
          "output_type": "stream",
          "text": [
            "\n",
            "\n",
            "Best Score: 0.9718689434198187 \n",
            "\n",
            "Best parameters: {'rf__criterion': 'entropy'}\n"
          ],
          "name": "stdout"
        }
      ]
    },
    {
      "cell_type": "code",
      "metadata": {
        "colab": {
          "base_uri": "https://localhost:8080/"
        },
        "id": "5oa5Y23Rtjk9",
        "outputId": "12f7418f-3b95-495a-c980-3508ea8e24c3"
      },
      "source": [
        "# check on test data and impute test data, too\n",
        "\n",
        "#impute\n",
        "nan = np.nan\n",
        "imputer = KNNImputer(n_neighbors=5, weights=\"distance\") #distance or uniform\n",
        "v_array_imputed = imputer.fit_transform(validation_test)\n",
        "validation_imputed = pd.DataFrame(v_array_imputed, columns = validation_test.columns)\n",
        "print('Any nulls left?:',training_imputed.isnull().values.sum(),'\\n')\n",
        "\n",
        "#set variables\n",
        "y_test = validation_imputed['BK']\n",
        "X_test = validation_imputed.drop(columns=[#'Operational Margin','Assets Growth',\\\n",
        "                                  #'Employee Growth','Sales Growth',\n",
        "                                  'BK'])\n",
        "print('Testing shape:',X_test.shape,'\\n')\n",
        "\n",
        "#predict\n",
        "pred = model.predict(X_test)\n",
        "print('Confusion matrix:\\n',confusion_matrix(y_test, pred))\n",
        "print('\\nClassification report:\\n',classification_report(y_test, pred))"
      ],
      "execution_count": 61,
      "outputs": [
        {
          "output_type": "stream",
          "text": [
            "Any nulls left?: 0 \n",
            "\n",
            "Testing shape: (18568, 12) \n",
            "\n",
            "Confusion matrix:\n",
            " [[18075   377]\n",
            " [   66    50]]\n",
            "\n",
            "Classification report:\n",
            "               precision    recall  f1-score   support\n",
            "\n",
            "         0.0       1.00      0.98      0.99     18452\n",
            "         1.0       0.12      0.43      0.18       116\n",
            "\n",
            "    accuracy                           0.98     18568\n",
            "   macro avg       0.56      0.71      0.59     18568\n",
            "weighted avg       0.99      0.98      0.98     18568\n",
            "\n"
          ],
          "name": "stdout"
        }
      ]
    }
  ]
}