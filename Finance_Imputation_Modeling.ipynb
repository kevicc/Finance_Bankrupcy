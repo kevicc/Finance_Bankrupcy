{
  "nbformat": 4,
  "nbformat_minor": 0,
  "metadata": {
    "accelerator": "GPU",
    "colab": {
      "name": "Finance_Imputation_Modeling.ipynb",
      "provenance": [],
      "collapsed_sections": []
    },
    "kernelspec": {
      "display_name": "Python 3",
      "name": "python3"
    },
    "language_info": {
      "name": "python"
    }
  },
  "cells": [
    {
      "cell_type": "markdown",
      "metadata": {
        "id": "xFnfjUqYg9CK"
      },
      "source": [
        "## Data prep."
      ]
    },
    {
      "cell_type": "code",
      "metadata": {
        "colab": {
          "base_uri": "https://localhost:8080/"
        },
        "id": "k-ZFgZOusrHL",
        "outputId": "dd0975f3-9ad6-402e-c088-c7af9fdf1139"
      },
      "source": [
        "# import packages\n",
        "import pandas as pd\n",
        "import numpy as np\n",
        "from numpy import where\n",
        "from sklearn.impute import KNNImputer\n",
        "from collections import Counter\n",
        "from imblearn.over_sampling import SMOTE\n",
        "from imblearn.under_sampling import RandomUnderSampler\n",
        "from imblearn.pipeline import Pipeline\n",
        "import matplotlib.pyplot as plt\n",
        "from sklearn.preprocessing import StandardScaler, MinMaxScaler\n",
        "from warnings import simplefilter\n",
        "simplefilter(action='ignore', category=FutureWarning)\n",
        "from sklearn.model_selection import train_test_split"
      ],
      "execution_count": 1,
      "outputs": [
        {
          "output_type": "stream",
          "text": [
            "/usr/local/lib/python3.7/dist-packages/sklearn/externals/six.py:31: FutureWarning: The module is deprecated in version 0.21 and will be removed in version 0.23 since we've dropped support for Python 2.7. Please rely on the official version of six (https://pypi.org/project/six/).\n",
            "  \"(https://pypi.org/project/six/).\", FutureWarning)\n",
            "/usr/local/lib/python3.7/dist-packages/sklearn/utils/deprecation.py:144: FutureWarning: The sklearn.neighbors.base module is  deprecated in version 0.22 and will be removed in version 0.24. The corresponding classes / functions should instead be imported from sklearn.neighbors. Anything that cannot be imported from sklearn.neighbors is now part of the private API.\n",
            "  warnings.warn(message, FutureWarning)\n"
          ],
          "name": "stderr"
        }
      ]
    },
    {
      "cell_type": "code",
      "metadata": {
        "id": "Ybmq16v2Qd3a"
      },
      "source": [
        "# connect the drive\n",
        "df = pd.read_excel('/content/drive/MyDrive/MMAI/Finance/Bankruptcy_data_Final.xlsx')"
      ],
      "execution_count": 2,
      "outputs": []
    },
    {
      "cell_type": "code",
      "metadata": {
        "colab": {
          "base_uri": "https://localhost:8080/",
          "height": 166
        },
        "id": "KVGH06WAReSO",
        "outputId": "7fe6cc04-6c6c-4996-b1d4-5cf9824f1c2f"
      },
      "source": [
        "# look at shape\n",
        "print(df.shape)\n",
        "df.head(3)"
      ],
      "execution_count": 3,
      "outputs": [
        {
          "output_type": "stream",
          "text": [
            "(92872, 13)\n"
          ],
          "name": "stdout"
        },
        {
          "output_type": "execute_result",
          "data": {
            "text/html": [
              "<div>\n",
              "<style scoped>\n",
              "    .dataframe tbody tr th:only-of-type {\n",
              "        vertical-align: middle;\n",
              "    }\n",
              "\n",
              "    .dataframe tbody tr th {\n",
              "        vertical-align: top;\n",
              "    }\n",
              "\n",
              "    .dataframe thead th {\n",
              "        text-align: right;\n",
              "    }\n",
              "</style>\n",
              "<table border=\"1\" class=\"dataframe\">\n",
              "  <thead>\n",
              "    <tr style=\"text-align: right;\">\n",
              "      <th></th>\n",
              "      <th>EPS</th>\n",
              "      <th>Liquidity</th>\n",
              "      <th>Profitability</th>\n",
              "      <th>Productivity</th>\n",
              "      <th>Leverage Ratio</th>\n",
              "      <th>Asset Turnover</th>\n",
              "      <th>Operational Margin</th>\n",
              "      <th>Return on Equity</th>\n",
              "      <th>Market Book Ratio</th>\n",
              "      <th>Assets Growth</th>\n",
              "      <th>Sales Growth</th>\n",
              "      <th>Employee Growth</th>\n",
              "      <th>BK</th>\n",
              "    </tr>\n",
              "  </thead>\n",
              "  <tbody>\n",
              "    <tr>\n",
              "      <th>0</th>\n",
              "      <td>1.58</td>\n",
              "      <td>0.36</td>\n",
              "      <td>0.18</td>\n",
              "      <td>0.13</td>\n",
              "      <td>1.33</td>\n",
              "      <td>1.77</td>\n",
              "      <td>0.07</td>\n",
              "      <td>0.15</td>\n",
              "      <td>2.22</td>\n",
              "      <td>NaN</td>\n",
              "      <td>NaN</td>\n",
              "      <td>NaN</td>\n",
              "      <td>0</td>\n",
              "    </tr>\n",
              "    <tr>\n",
              "      <th>1</th>\n",
              "      <td>1.41</td>\n",
              "      <td>0.36</td>\n",
              "      <td>0.19</td>\n",
              "      <td>0.12</td>\n",
              "      <td>1.31</td>\n",
              "      <td>1.59</td>\n",
              "      <td>0.07</td>\n",
              "      <td>0.13</td>\n",
              "      <td>2.41</td>\n",
              "      <td>0.126319</td>\n",
              "      <td>0.014278</td>\n",
              "      <td>0.040179</td>\n",
              "      <td>0</td>\n",
              "    </tr>\n",
              "    <tr>\n",
              "      <th>2</th>\n",
              "      <td>0.31</td>\n",
              "      <td>0.32</td>\n",
              "      <td>0.13</td>\n",
              "      <td>0.08</td>\n",
              "      <td>1.03</td>\n",
              "      <td>1.55</td>\n",
              "      <td>0.05</td>\n",
              "      <td>0.04</td>\n",
              "      <td>2.56</td>\n",
              "      <td>0.368077</td>\n",
              "      <td>0.327909</td>\n",
              "      <td>0.566524</td>\n",
              "      <td>0</td>\n",
              "    </tr>\n",
              "  </tbody>\n",
              "</table>\n",
              "</div>"
            ],
            "text/plain": [
              "    EPS  Liquidity  Profitability  ...  Sales Growth  Employee Growth  BK\n",
              "0  1.58       0.36           0.18  ...           NaN              NaN   0\n",
              "1  1.41       0.36           0.19  ...      0.014278         0.040179   0\n",
              "2  0.31       0.32           0.13  ...      0.327909         0.566524   0\n",
              "\n",
              "[3 rows x 13 columns]"
            ]
          },
          "metadata": {
            "tags": []
          },
          "execution_count": 3
        }
      ]
    },
    {
      "cell_type": "code",
      "metadata": {
        "colab": {
          "base_uri": "https://localhost:8080/"
        },
        "id": "3yKM2EguruDm",
        "outputId": "61615181-0436-4346-c4e5-ff1c897a2929"
      },
      "source": [
        "print('Full dataset target distribution...')\n",
        "print('1:', df['BK'][df['BK']==1].count(),',',df['BK'][df['BK']==1].count()/df['BK'].count() )\n",
        "print('0:', df['BK'][df['BK']==0].count(),',',df['BK'][df['BK']==0].count()/df['BK'].count() )"
      ],
      "execution_count": 4,
      "outputs": [
        {
          "output_type": "stream",
          "text": [
            "Full dataset target distribution...\n",
            "1: 558 , 0.00600826944611939\n",
            "0: 92314 , 0.9939917305538806\n"
          ],
          "name": "stdout"
        }
      ]
    },
    {
      "cell_type": "code",
      "metadata": {
        "colab": {
          "base_uri": "https://localhost:8080/"
        },
        "id": "HEvwL0hcRrzy",
        "outputId": "e9fbbc04-6e08-417a-a063-d8a0a828823b"
      },
      "source": [
        "# check out the columns\n",
        "print('Understanding columns...')\n",
        "for col in df.columns:\n",
        "  print(col,':')\n",
        "  print('Total nulls:',df[col].isnull().values.sum())\n",
        "  print('Min:',df[col].min())\n",
        "  print('Max:',df[col].max())\n",
        "  if df[col].isnull().values.sum() == 0:\n",
        "    print('All good for', col)\n",
        "  elif df[col].isnull().values.sum() <= 30:\n",
        "    print('Drop the nulls for', col,'\\n')\n",
        "  else:\n",
        "    print('Use imputation for', col,'\\n')"
      ],
      "execution_count": 5,
      "outputs": [
        {
          "output_type": "stream",
          "text": [
            "Understanding columns...\n",
            "EPS :\n",
            "Total nulls: 5\n",
            "Min: -384000.0\n",
            "Max: 55339.0\n",
            "Drop the nulls for EPS \n",
            "\n",
            "Liquidity :\n",
            "Total nulls: 247\n",
            "Min: -25968.52\n",
            "Max: 1.0\n",
            "Use imputation for Liquidity \n",
            "\n",
            "Profitability :\n",
            "Total nulls: 247\n",
            "Min: -79682.0\n",
            "Max: 140.58\n",
            "Use imputation for Profitability \n",
            "\n",
            "Productivity :\n",
            "Total nulls: 247\n",
            "Min: -5093.0\n",
            "Max: 1102.0\n",
            "Use imputation for Productivity \n",
            "\n",
            "Leverage Ratio :\n",
            "Total nulls: 26\n",
            "Min: -7811.0\n",
            "Max: 75970.38\n",
            "Drop the nulls for Leverage Ratio \n",
            "\n",
            "Asset Turnover :\n",
            "Total nulls: 247\n",
            "Min: -31.59\n",
            "Max: 276.38\n",
            "Use imputation for Asset Turnover \n",
            "\n",
            "Operational Margin :\n",
            "Total nulls: 5557\n",
            "Min: -30175.7\n",
            "Max: 394.47\n",
            "Use imputation for Operational Margin \n",
            "\n",
            "Return on Equity :\n",
            "Total nulls: 8\n",
            "Min: -88875.14\n",
            "Max: 39500.0\n",
            "Drop the nulls for Return on Equity \n",
            "\n",
            "Market Book Ratio :\n",
            "Total nulls: 57\n",
            "Min: -3151500.0\n",
            "Max: 3455419.33\n",
            "Use imputation for Market Book Ratio \n",
            "\n",
            "Assets Growth :\n",
            "Total nulls: 6701\n",
            "Min: -1.0\n",
            "Max: 14231.0\n",
            "Use imputation for Assets Growth \n",
            "\n",
            "Sales Growth :\n",
            "Total nulls: 6701\n",
            "Min: -27.43103448275862\n",
            "Max: 39850.0\n",
            "Use imputation for Sales Growth \n",
            "\n",
            "Employee Growth :\n",
            "Total nulls: 7010\n",
            "Min: -1.0\n",
            "Max: 2699.0\n",
            "Use imputation for Employee Growth \n",
            "\n",
            "BK :\n",
            "Total nulls: 0\n",
            "Min: 0\n",
            "Max: 1\n",
            "All good for BK\n"
          ],
          "name": "stdout"
        }
      ]
    },
    {
      "cell_type": "code",
      "metadata": {
        "colab": {
          "base_uri": "https://localhost:8080/"
        },
        "id": "ZHtIKiIWeMOb",
        "outputId": "f8ae62cc-4ef2-4069-9517-c21ed01ee4d5"
      },
      "source": [
        "# drop nulls where only a few missing on entire dataset\n",
        "# same thing with outliers\n",
        "print('All:',df.shape)\n",
        "df = df.dropna(subset=['Return on Equity','Leverage Ratio','EPS'])\n",
        "print('Nulls dropped where very few:',df.shape)\n",
        "\n",
        "# Remove outliers that are not 1 target anyways\n",
        "df_a = df[(df['Employee Growth']<=1000) | (df['Employee Growth'].isnull())] \n",
        "df_a = df_a[(df_a['Sales Growth']<=1000) | (df_a['Sales Growth'].isnull())] \n",
        "df_a = df_a[(df_a['Sales Growth']>=-10) | (df_a['Sales Growth'].isnull())] \n",
        "df_a = df_a[(df_a['Return on Equity']<=10000) | (df_a['Return on Equity'].isnull())] \n",
        "df_a = df_a[(df_a['Return on Equity']>=-25000) | (df_a['Return on Equity'].isnull())] \n",
        "df_a = df_a[(df_a['Operational Margin']<=11) | (df_a['Operational Margin'].isnull())] \n",
        "df_a = df_a[(df_a['Asset Turnover']>=-2) | (df_a['Asset Turnover'].isnull())]  \n",
        "df_a = df_a[(df_a['Leverage Ratio']<=3500) | (df_a['Leverage Ratio'].isnull())]\n",
        "df_a = df_a[(df_a['Leverage Ratio']>=-3500) | (df_a['Leverage Ratio'].isnull())]\n",
        "df_a = df_a[(df_a['Productivity']<=50) |  (df_a['Productivity'].isnull())]\n",
        "df_a = df_a[(df_a['Profitability']<=6) |  (df_a['Profitability'].isnull())]  \n",
        "df_a = df_a[(df_a['Liquidity']>=-15000)  |  (df_a['Liquidity'].isnull())]  \n",
        "print('Outliers dropped, none were target or null = 1:',df_a.shape)"
      ],
      "execution_count": 6,
      "outputs": [
        {
          "output_type": "stream",
          "text": [
            "All: (92872, 13)\n",
            "Nulls dropped where very few: (92839, 13)\n",
            "Outliers dropped, none were target or null = 1: (92805, 13)\n"
          ],
          "name": "stdout"
        }
      ]
    },
    {
      "cell_type": "code",
      "metadata": {
        "colab": {
          "base_uri": "https://localhost:8080/"
        },
        "id": "OstCRMoUqfVZ",
        "outputId": "98033783-ac98-4815-b2d0-670b4e39259e"
      },
      "source": [
        "# split training data\n",
        "y = df['BK']\n",
        "X = df.drop(columns=['BK'])\n",
        "\n",
        "X_train, X_test, y_train, y_test = train_test_split(X,y,test_size=0.15,\n",
        "                                                    random_state=42)\n",
        "print('Training:',X_train.shape)\n",
        "print('Training:',X_test.shape)"
      ],
      "execution_count": 7,
      "outputs": [
        {
          "output_type": "stream",
          "text": [
            "Training: (78913, 12)\n",
            "Training: (13926, 12)\n"
          ],
          "name": "stdout"
        }
      ]
    },
    {
      "cell_type": "code",
      "metadata": {
        "colab": {
          "base_uri": "https://localhost:8080/"
        },
        "id": "vBdAfTZhaEKV",
        "outputId": "aaef53fd-4b7b-40d0-bb6a-e7c12e50aa8d"
      },
      "source": [
        "# step 1: impute the training only with KNN\n",
        "nan = np.nan\n",
        "imputer = KNNImputer(n_neighbors=4, weights=\"distance\")\n",
        "array_imputed = imputer.fit_transform(X_train)\n",
        "X_train_imp = pd.DataFrame(array_imputed, columns = X_train.columns)\n",
        "print('Any nulls left?:',X_train_imp.isnull().values.sum())"
      ],
      "execution_count": 8,
      "outputs": [
        {
          "output_type": "stream",
          "text": [
            "Any nulls left?: 0\n"
          ],
          "name": "stdout"
        }
      ]
    },
    {
      "cell_type": "code",
      "metadata": {
        "colab": {
          "base_uri": "https://localhost:8080/",
          "height": 150
        },
        "id": "TBdQjNiBdQ4_",
        "outputId": "7cbf08ac-2530-4d83-f6b6-d6547baffa69"
      },
      "source": [
        "# look at the imputed version\n",
        "X_train_imp.head(3)"
      ],
      "execution_count": 9,
      "outputs": [
        {
          "output_type": "execute_result",
          "data": {
            "text/html": [
              "<div>\n",
              "<style scoped>\n",
              "    .dataframe tbody tr th:only-of-type {\n",
              "        vertical-align: middle;\n",
              "    }\n",
              "\n",
              "    .dataframe tbody tr th {\n",
              "        vertical-align: top;\n",
              "    }\n",
              "\n",
              "    .dataframe thead th {\n",
              "        text-align: right;\n",
              "    }\n",
              "</style>\n",
              "<table border=\"1\" class=\"dataframe\">\n",
              "  <thead>\n",
              "    <tr style=\"text-align: right;\">\n",
              "      <th></th>\n",
              "      <th>EPS</th>\n",
              "      <th>Liquidity</th>\n",
              "      <th>Profitability</th>\n",
              "      <th>Productivity</th>\n",
              "      <th>Leverage Ratio</th>\n",
              "      <th>Asset Turnover</th>\n",
              "      <th>Operational Margin</th>\n",
              "      <th>Return on Equity</th>\n",
              "      <th>Market Book Ratio</th>\n",
              "      <th>Assets Growth</th>\n",
              "      <th>Sales Growth</th>\n",
              "      <th>Employee Growth</th>\n",
              "    </tr>\n",
              "  </thead>\n",
              "  <tbody>\n",
              "    <tr>\n",
              "      <th>0</th>\n",
              "      <td>0.00</td>\n",
              "      <td>-0.15</td>\n",
              "      <td>-0.83</td>\n",
              "      <td>0.02</td>\n",
              "      <td>0.05</td>\n",
              "      <td>0.26</td>\n",
              "      <td>0.09</td>\n",
              "      <td>0.00</td>\n",
              "      <td>87.53</td>\n",
              "      <td>-0.640843</td>\n",
              "      <td>0.172894</td>\n",
              "      <td>-0.057485</td>\n",
              "    </tr>\n",
              "    <tr>\n",
              "      <th>1</th>\n",
              "      <td>1.45</td>\n",
              "      <td>0.22</td>\n",
              "      <td>0.36</td>\n",
              "      <td>0.06</td>\n",
              "      <td>0.00</td>\n",
              "      <td>1.41</td>\n",
              "      <td>0.04</td>\n",
              "      <td>0.07</td>\n",
              "      <td>19.13</td>\n",
              "      <td>0.187419</td>\n",
              "      <td>0.152865</td>\n",
              "      <td>0.205692</td>\n",
              "    </tr>\n",
              "    <tr>\n",
              "      <th>2</th>\n",
              "      <td>0.40</td>\n",
              "      <td>0.24</td>\n",
              "      <td>-0.01</td>\n",
              "      <td>0.05</td>\n",
              "      <td>0.76</td>\n",
              "      <td>1.90</td>\n",
              "      <td>0.03</td>\n",
              "      <td>0.04</td>\n",
              "      <td>21.80</td>\n",
              "      <td>0.131678</td>\n",
              "      <td>0.160317</td>\n",
              "      <td>0.072963</td>\n",
              "    </tr>\n",
              "  </tbody>\n",
              "</table>\n",
              "</div>"
            ],
            "text/plain": [
              "    EPS  Liquidity  Profitability  ...  Assets Growth  Sales Growth  Employee Growth\n",
              "0  0.00      -0.15          -0.83  ...      -0.640843      0.172894        -0.057485\n",
              "1  1.45       0.22           0.36  ...       0.187419      0.152865         0.205692\n",
              "2  0.40       0.24          -0.01  ...       0.131678      0.160317         0.072963\n",
              "\n",
              "[3 rows x 12 columns]"
            ]
          },
          "metadata": {
            "tags": []
          },
          "execution_count": 9
        }
      ]
    },
    {
      "cell_type": "code",
      "metadata": {
        "colab": {
          "base_uri": "https://localhost:8080/"
        },
        "id": "ic6dzSGJrahi",
        "outputId": "df4384ed-615a-47ba-c7b8-96e57e91dfcc"
      },
      "source": [
        "# see shapes\n",
        "counter = Counter(y_train)\n",
        "print('Training distribution:',counter)\n",
        "print('1:', y_train[y_train==1].count()/y_train.count() )\n",
        "print('0:', y_train[y_train==0].count()/y_train.count() )"
      ],
      "execution_count": 10,
      "outputs": [
        {
          "output_type": "stream",
          "text": [
            "Training distribution: Counter({0: 78438, 1: 475})\n",
            "1: 0.006019287062968079\n",
            "0: 0.9939807129370319\n"
          ],
          "name": "stdout"
        }
      ]
    },
    {
      "cell_type": "code",
      "metadata": {
        "colab": {
          "base_uri": "https://localhost:8080/"
        },
        "id": "kV51QwrAfu55",
        "outputId": "d187b53f-68a1-4694-bd1c-405d23447956"
      },
      "source": [
        "# transform the training dataset with smote /and under sampling\n",
        "oversample = SMOTE(sampling_strategy=0.2)\n",
        "X_smote, y_smote = oversample.fit_resample(X_train_imp, y_train)\n",
        "counter = Counter(y_smote)\n",
        "print('New distribution:',counter)\n",
        "#undersample = RandomUnderSampler(sampling_strategy=0.2)\n",
        "#X_smote_under, y_smote_under = undersample.fit_resample(X_smote, y_smote)\n",
        "#counter = Counter(y_smote_under)\n",
        "#print('New distribution:',counter)"
      ],
      "execution_count": 11,
      "outputs": [
        {
          "output_type": "stream",
          "text": [
            "New distribution: Counter({0: 78438, 1: 15687})\n"
          ],
          "name": "stdout"
        }
      ]
    },
    {
      "cell_type": "markdown",
      "metadata": {
        "id": "F1zbXY8Jg6IB"
      },
      "source": [
        "## Modeling"
      ]
    },
    {
      "cell_type": "code",
      "metadata": {
        "id": "ZdcAzXyhhXMB"
      },
      "source": [
        "# import packages\n",
        "from sklearn.model_selection import train_test_split\n",
        "from sklearn.neighbors import KNeighborsClassifier\n",
        "from sklearn.ensemble import RandomForestClassifier\n",
        "from sklearn.model_selection import GridSearchCV\n",
        "from sklearn.metrics import confusion_matrix, classification_report\n",
        "from sklearn.pipeline import Pipeline\n",
        "from sklearn.preprocessing import PowerTransformer\n",
        "# from sklearn.feature_selection import RFE"
      ],
      "execution_count": 12,
      "outputs": []
    },
    {
      "cell_type": "code",
      "metadata": {
        "colab": {
          "base_uri": "https://localhost:8080/"
        },
        "id": "hwlcxBkgmi4N",
        "outputId": "6e1a42ee-f15c-42e2-e857-25c70b8c29f8"
      },
      "source": [
        "# try a model to make sure cleaned ok for next team member\n",
        "#stnd_scaler = StandardScaler()\n",
        "#mm_scaler = MinMaxScaler()\n",
        "johnpt = PowerTransformer(method='yeo-johnson')\n",
        "rf = RandomForestClassifier(n_estimators=200)\n",
        "\n",
        "Pipe= Pipeline([('scale',johnpt),\n",
        "                   ('rf', rf)\n",
        "                   ])\n",
        "param_grid = {'rf__criterion': ('gini','entropy')\n",
        "              }\n",
        "model = GridSearchCV(Pipe,param_grid,cv=5,scoring='f1_micro')\n",
        "model.fit(X_smote,y_smote) #X_smote_under, y_smote_under\n",
        "print('\\n\\nBest Score:', model.best_score_,'\\n')\n",
        "print('Best parameters:', model.best_params_)"
      ],
      "execution_count": 13,
      "outputs": [
        {
          "output_type": "stream",
          "text": [
            "\n",
            "\n",
            "Best Score: 0.9859442231075697 \n",
            "\n",
            "Best parameters: {'rf__criterion': 'entropy'}\n"
          ],
          "name": "stdout"
        }
      ]
    },
    {
      "cell_type": "code",
      "metadata": {
        "colab": {
          "base_uri": "https://localhost:8080/"
        },
        "id": "5oa5Y23Rtjk9",
        "outputId": "032cf0ae-77e0-4fef-b588-a476e50a4e9c"
      },
      "source": [
        "#impute\n",
        "nan = np.nan\n",
        "imputer = KNNImputer(n_neighbors=4, weights=\"distance\") \n",
        "v_array_imputed = imputer.fit_transform(X_test)\n",
        "X_test_imp = pd.DataFrame(v_array_imputed, columns = X_test.columns)\n",
        "print('Any nulls left?:', X_test_imp.isnull().values.sum(),'\\n')\n",
        "print('Testing shape:',X_test_imp.shape,'\\n')\n",
        "\n",
        "#predict\n",
        "pred = model.predict(X_test_imp)\n",
        "print('Confusion matrix:\\n',confusion_matrix(y_test, pred))\n",
        "print('\\nClassification report:\\n',classification_report(y_test, pred))"
      ],
      "execution_count": 14,
      "outputs": [
        {
          "output_type": "stream",
          "text": [
            "Any nulls left?: 0 \n",
            "\n",
            "Testing shape: (13926, 12) \n",
            "\n",
            "Confusion matrix:\n",
            " [[13754    93]\n",
            " [   63    16]]\n",
            "\n",
            "Classification report:\n",
            "               precision    recall  f1-score   support\n",
            "\n",
            "           0       1.00      0.99      0.99     13847\n",
            "           1       0.15      0.20      0.17        79\n",
            "\n",
            "    accuracy                           0.99     13926\n",
            "   macro avg       0.57      0.60      0.58     13926\n",
            "weighted avg       0.99      0.99      0.99     13926\n",
            "\n"
          ],
          "name": "stdout"
        }
      ]
    }
  ]
}