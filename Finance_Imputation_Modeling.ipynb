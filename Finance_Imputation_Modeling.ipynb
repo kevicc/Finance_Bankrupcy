{
  "nbformat": 4,
  "nbformat_minor": 0,
  "metadata": {
    "accelerator": "GPU",
    "colab": {
      "name": "Finance_Imputation_Modeling.ipynb",
      "provenance": [],
      "collapsed_sections": []
    },
    "kernelspec": {
      "display_name": "Python 3",
      "name": "python3"
    },
    "language_info": {
      "name": "python"
    }
  },
  "cells": [
    {
      "cell_type": "markdown",
      "metadata": {
        "id": "xFnfjUqYg9CK"
      },
      "source": [
        "## Data prep."
      ]
    },
    {
      "cell_type": "code",
      "metadata": {
        "colab": {
          "base_uri": "https://localhost:8080/"
        },
        "id": "k-ZFgZOusrHL",
        "outputId": "9b169d04-d7a6-4145-add0-35236818e82c"
      },
      "source": [
        "# import packages\n",
        "import pandas as pd\n",
        "import numpy as np\n",
        "from numpy import where\n",
        "from sklearn.impute import KNNImputer\n",
        "from collections import Counter\n",
        "from imblearn.over_sampling import SMOTE\n",
        "from imblearn.under_sampling import RandomUnderSampler\n",
        "from imblearn.pipeline import Pipeline\n",
        "import matplotlib.pyplot as plt\n",
        "from sklearn.preprocessing import StandardScaler, MinMaxScaler\n",
        "from warnings import simplefilter\n",
        "simplefilter(action='ignore', category=FutureWarning)\n",
        "from sklearn.model_selection import train_test_split"
      ],
      "execution_count": 1,
      "outputs": [
        {
          "output_type": "stream",
          "text": [
            "/usr/local/lib/python3.7/dist-packages/sklearn/externals/six.py:31: FutureWarning: The module is deprecated in version 0.21 and will be removed in version 0.23 since we've dropped support for Python 2.7. Please rely on the official version of six (https://pypi.org/project/six/).\n",
            "  \"(https://pypi.org/project/six/).\", FutureWarning)\n",
            "/usr/local/lib/python3.7/dist-packages/sklearn/utils/deprecation.py:144: FutureWarning: The sklearn.neighbors.base module is  deprecated in version 0.22 and will be removed in version 0.24. The corresponding classes / functions should instead be imported from sklearn.neighbors. Anything that cannot be imported from sklearn.neighbors is now part of the private API.\n",
            "  warnings.warn(message, FutureWarning)\n"
          ],
          "name": "stderr"
        }
      ]
    },
    {
      "cell_type": "code",
      "metadata": {
        "id": "Ybmq16v2Qd3a"
      },
      "source": [
        "# connect the drive\n",
        "df = pd.read_excel('/content/drive/MyDrive/MMAI/Finance/Bankruptcy_data_Final.xlsx')"
      ],
      "execution_count": 2,
      "outputs": []
    },
    {
      "cell_type": "code",
      "metadata": {
        "colab": {
          "base_uri": "https://localhost:8080/",
          "height": 182
        },
        "id": "KVGH06WAReSO",
        "outputId": "6bcdc8da-c38b-4c53-f332-39fa575249d6"
      },
      "source": [
        "# look at shape\n",
        "print(df.shape)\n",
        "df.head(3)"
      ],
      "execution_count": 3,
      "outputs": [
        {
          "output_type": "stream",
          "text": [
            "(92872, 13)\n"
          ],
          "name": "stdout"
        },
        {
          "output_type": "execute_result",
          "data": {
            "text/html": [
              "<div>\n",
              "<style scoped>\n",
              "    .dataframe tbody tr th:only-of-type {\n",
              "        vertical-align: middle;\n",
              "    }\n",
              "\n",
              "    .dataframe tbody tr th {\n",
              "        vertical-align: top;\n",
              "    }\n",
              "\n",
              "    .dataframe thead th {\n",
              "        text-align: right;\n",
              "    }\n",
              "</style>\n",
              "<table border=\"1\" class=\"dataframe\">\n",
              "  <thead>\n",
              "    <tr style=\"text-align: right;\">\n",
              "      <th></th>\n",
              "      <th>EPS</th>\n",
              "      <th>Liquidity</th>\n",
              "      <th>Profitability</th>\n",
              "      <th>Productivity</th>\n",
              "      <th>Leverage Ratio</th>\n",
              "      <th>Asset Turnover</th>\n",
              "      <th>Operational Margin</th>\n",
              "      <th>Return on Equity</th>\n",
              "      <th>Market Book Ratio</th>\n",
              "      <th>Assets Growth</th>\n",
              "      <th>Sales Growth</th>\n",
              "      <th>Employee Growth</th>\n",
              "      <th>BK</th>\n",
              "    </tr>\n",
              "  </thead>\n",
              "  <tbody>\n",
              "    <tr>\n",
              "      <th>0</th>\n",
              "      <td>1.58</td>\n",
              "      <td>0.36</td>\n",
              "      <td>0.18</td>\n",
              "      <td>0.13</td>\n",
              "      <td>1.33</td>\n",
              "      <td>1.77</td>\n",
              "      <td>0.07</td>\n",
              "      <td>0.15</td>\n",
              "      <td>2.22</td>\n",
              "      <td>NaN</td>\n",
              "      <td>NaN</td>\n",
              "      <td>NaN</td>\n",
              "      <td>0</td>\n",
              "    </tr>\n",
              "    <tr>\n",
              "      <th>1</th>\n",
              "      <td>1.41</td>\n",
              "      <td>0.36</td>\n",
              "      <td>0.19</td>\n",
              "      <td>0.12</td>\n",
              "      <td>1.31</td>\n",
              "      <td>1.59</td>\n",
              "      <td>0.07</td>\n",
              "      <td>0.13</td>\n",
              "      <td>2.41</td>\n",
              "      <td>0.126319</td>\n",
              "      <td>0.014278</td>\n",
              "      <td>0.040179</td>\n",
              "      <td>0</td>\n",
              "    </tr>\n",
              "    <tr>\n",
              "      <th>2</th>\n",
              "      <td>0.31</td>\n",
              "      <td>0.32</td>\n",
              "      <td>0.13</td>\n",
              "      <td>0.08</td>\n",
              "      <td>1.03</td>\n",
              "      <td>1.55</td>\n",
              "      <td>0.05</td>\n",
              "      <td>0.04</td>\n",
              "      <td>2.56</td>\n",
              "      <td>0.368077</td>\n",
              "      <td>0.327909</td>\n",
              "      <td>0.566524</td>\n",
              "      <td>0</td>\n",
              "    </tr>\n",
              "  </tbody>\n",
              "</table>\n",
              "</div>"
            ],
            "text/plain": [
              "    EPS  Liquidity  Profitability  ...  Sales Growth  Employee Growth  BK\n",
              "0  1.58       0.36           0.18  ...           NaN              NaN   0\n",
              "1  1.41       0.36           0.19  ...      0.014278         0.040179   0\n",
              "2  0.31       0.32           0.13  ...      0.327909         0.566524   0\n",
              "\n",
              "[3 rows x 13 columns]"
            ]
          },
          "metadata": {
            "tags": []
          },
          "execution_count": 3
        }
      ]
    },
    {
      "cell_type": "code",
      "metadata": {
        "colab": {
          "base_uri": "https://localhost:8080/"
        },
        "id": "3yKM2EguruDm",
        "outputId": "340d1c86-548c-4b17-acde-520905157072"
      },
      "source": [
        "print('Full dataset target distribution...')\n",
        "print('1:', df['BK'][df['BK']==1].count(),',',df['BK'][df['BK']==1].count()/df['BK'].count() )\n",
        "print('0:', df['BK'][df['BK']==0].count(),',',df['BK'][df['BK']==0].count()/df['BK'].count() )"
      ],
      "execution_count": 4,
      "outputs": [
        {
          "output_type": "stream",
          "text": [
            "Full dataset target distribution...\n",
            "1: 558 , 0.00600826944611939\n",
            "0: 92314 , 0.9939917305538806\n"
          ],
          "name": "stdout"
        }
      ]
    },
    {
      "cell_type": "code",
      "metadata": {
        "colab": {
          "base_uri": "https://localhost:8080/"
        },
        "id": "HEvwL0hcRrzy",
        "outputId": "2caee49a-9030-43dc-c9b0-d5d0af83795d"
      },
      "source": [
        "# check out the columns\n",
        "print('Understanding columns...')\n",
        "for col in df.columns:\n",
        "  print(col,':')\n",
        "  print('Total nulls:',df[col].isnull().values.sum())\n",
        "  print('Min:',df[col].min())\n",
        "  print('Max:',df[col].max())\n",
        "  if df[col].isnull().values.sum() == 0:\n",
        "    print('All good for', col)\n",
        "  elif df[col].isnull().values.sum() <= 30:\n",
        "    print('Drop the nulls for', col,'\\n')\n",
        "  else:\n",
        "    print('Use imputation for', col,'\\n')"
      ],
      "execution_count": 5,
      "outputs": [
        {
          "output_type": "stream",
          "text": [
            "Understanding columns...\n",
            "EPS :\n",
            "Total nulls: 5\n",
            "Min: -384000.0\n",
            "Max: 55339.0\n",
            "Drop the nulls for EPS \n",
            "\n",
            "Liquidity :\n",
            "Total nulls: 247\n",
            "Min: -25968.52\n",
            "Max: 1.0\n",
            "Use imputation for Liquidity \n",
            "\n",
            "Profitability :\n",
            "Total nulls: 247\n",
            "Min: -79682.0\n",
            "Max: 140.58\n",
            "Use imputation for Profitability \n",
            "\n",
            "Productivity :\n",
            "Total nulls: 247\n",
            "Min: -5093.0\n",
            "Max: 1102.0\n",
            "Use imputation for Productivity \n",
            "\n",
            "Leverage Ratio :\n",
            "Total nulls: 26\n",
            "Min: -7811.0\n",
            "Max: 75970.38\n",
            "Drop the nulls for Leverage Ratio \n",
            "\n",
            "Asset Turnover :\n",
            "Total nulls: 247\n",
            "Min: -31.59\n",
            "Max: 276.38\n",
            "Use imputation for Asset Turnover \n",
            "\n",
            "Operational Margin :\n",
            "Total nulls: 5557\n",
            "Min: -30175.7\n",
            "Max: 394.47\n",
            "Use imputation for Operational Margin \n",
            "\n",
            "Return on Equity :\n",
            "Total nulls: 8\n",
            "Min: -88875.14\n",
            "Max: 39500.0\n",
            "Drop the nulls for Return on Equity \n",
            "\n",
            "Market Book Ratio :\n",
            "Total nulls: 57\n",
            "Min: -3151500.0\n",
            "Max: 3455419.33\n",
            "Use imputation for Market Book Ratio \n",
            "\n",
            "Assets Growth :\n",
            "Total nulls: 6701\n",
            "Min: -1.0\n",
            "Max: 14231.0\n",
            "Use imputation for Assets Growth \n",
            "\n",
            "Sales Growth :\n",
            "Total nulls: 6701\n",
            "Min: -27.43103448275862\n",
            "Max: 39850.0\n",
            "Use imputation for Sales Growth \n",
            "\n",
            "Employee Growth :\n",
            "Total nulls: 7010\n",
            "Min: -1.0\n",
            "Max: 2699.0\n",
            "Use imputation for Employee Growth \n",
            "\n",
            "BK :\n",
            "Total nulls: 0\n",
            "Min: 0\n",
            "Max: 1\n",
            "All good for BK\n"
          ],
          "name": "stdout"
        }
      ]
    },
    {
      "cell_type": "code",
      "metadata": {
        "colab": {
          "base_uri": "https://localhost:8080/"
        },
        "id": "ZHtIKiIWeMOb",
        "outputId": "d6825e99-eaa9-431a-f73f-36c3f20f67e3"
      },
      "source": [
        "# drop nulls where only a few missing on entire dataset\n",
        "# same thing with outliers\n",
        "print('All:',df.shape)\n",
        "df = df.dropna(subset=['Return on Equity','Leverage Ratio','EPS'])\n",
        "print('Nulls dropped where very few:',df.shape)\n",
        "\n",
        "# Remove outliers that are not 1 target anyways\n",
        "df_a = df[(df['Employee Growth']<=1000) | (df['Employee Growth'].isnull())] \n",
        "df_a = df_a[(df_a['Sales Growth']<=1000) | (df_a['Sales Growth'].isnull())] \n",
        "df_a = df_a[(df_a['Sales Growth']>=-10) | (df_a['Sales Growth'].isnull())] \n",
        "df_a = df_a[(df_a['Return on Equity']<=10000) | (df_a['Return on Equity'].isnull())] \n",
        "df_a = df_a[(df_a['Return on Equity']>=-25000) | (df_a['Return on Equity'].isnull())] \n",
        "df_a = df_a[(df_a['Operational Margin']<=11) | (df_a['Operational Margin'].isnull())] \n",
        "df_a = df_a[(df_a['Asset Turnover']>=-2) | (df_a['Asset Turnover'].isnull())]  \n",
        "df_a = df_a[(df_a['Leverage Ratio']<=3500) | (df_a['Leverage Ratio'].isnull())]\n",
        "df_a = df_a[(df_a['Leverage Ratio']>=-3500) | (df_a['Leverage Ratio'].isnull())]\n",
        "df_a = df_a[(df_a['Productivity']<=50) |  (df_a['Productivity'].isnull())]\n",
        "df_a = df_a[(df_a['Profitability']<=6) |  (df_a['Profitability'].isnull())]  \n",
        "df_a = df_a[(df_a['Liquidity']>=-15000)  |  (df_a['Liquidity'].isnull())]  \n",
        "print('Outliers dropped, none were target or null = 1:',df_a.shape)"
      ],
      "execution_count": 6,
      "outputs": [
        {
          "output_type": "stream",
          "text": [
            "All: (92872, 13)\n",
            "Nulls dropped where very few: (92839, 13)\n",
            "Outliers dropped, none were target or null = 1: (92805, 13)\n"
          ],
          "name": "stdout"
        }
      ]
    },
    {
      "cell_type": "code",
      "metadata": {
        "colab": {
          "base_uri": "https://localhost:8080/"
        },
        "id": "OstCRMoUqfVZ",
        "outputId": "f2b8dc2c-abad-457d-a96e-d98663838a68"
      },
      "source": [
        "# split training data\n",
        "y = df['BK']\n",
        "X = df.drop(columns=['BK'])\n",
        "\n",
        "X_train, X_test, y_train, y_test = train_test_split(X,y,test_size=0.15,\n",
        "                                                    random_state=42)\n",
        "print('Training:',X_train.shape)\n",
        "print('Training:',X_test.shape)"
      ],
      "execution_count": 7,
      "outputs": [
        {
          "output_type": "stream",
          "text": [
            "Training: (78913, 12)\n",
            "Training: (13926, 12)\n"
          ],
          "name": "stdout"
        }
      ]
    },
    {
      "cell_type": "code",
      "metadata": {
        "id": "vBdAfTZhaEKV"
      },
      "source": [
        "# step 1: impute the training only with KNN\n",
        "'''nan = np.nan\n",
        "imputer = KNNImputer(n_neighbors=4, weights=\"distance\")\n",
        "array_imputed = imputer.fit_transform(X_train)\n",
        "X_train_imp = pd.DataFrame(array_imputed, columns = X_train.columns)\n",
        "print('Any nulls left?:',X_train_imp.isnull().values.sum())\n",
        "'''\n",
        "\n",
        "#impute with iterative\n",
        "# explicitly require this experimental feature\n",
        "from sklearn.experimental import enable_iterative_imputer  \n",
        "from sklearn.impute import IterativeImputer\n",
        "imp = IterativeImputer(max_iter=10,random_state=42)\n",
        "X_train_imp = pd.DataFrame(imp.fit_transform(X_train),columns=X_train.columns)"
      ],
      "execution_count": 17,
      "outputs": []
    },
    {
      "cell_type": "code",
      "metadata": {
        "colab": {
          "base_uri": "https://localhost:8080/",
          "height": 166
        },
        "id": "TBdQjNiBdQ4_",
        "outputId": "b6224901-bf0a-46bc-8bb5-6a0022e94f3b"
      },
      "source": [
        "# look at the imputed version\n",
        "X_train_imp.head(3)"
      ],
      "execution_count": 18,
      "outputs": [
        {
          "output_type": "execute_result",
          "data": {
            "text/html": [
              "<div>\n",
              "<style scoped>\n",
              "    .dataframe tbody tr th:only-of-type {\n",
              "        vertical-align: middle;\n",
              "    }\n",
              "\n",
              "    .dataframe tbody tr th {\n",
              "        vertical-align: top;\n",
              "    }\n",
              "\n",
              "    .dataframe thead th {\n",
              "        text-align: right;\n",
              "    }\n",
              "</style>\n",
              "<table border=\"1\" class=\"dataframe\">\n",
              "  <thead>\n",
              "    <tr style=\"text-align: right;\">\n",
              "      <th></th>\n",
              "      <th>EPS</th>\n",
              "      <th>Liquidity</th>\n",
              "      <th>Profitability</th>\n",
              "      <th>Productivity</th>\n",
              "      <th>Leverage Ratio</th>\n",
              "      <th>Asset Turnover</th>\n",
              "      <th>Operational Margin</th>\n",
              "      <th>Return on Equity</th>\n",
              "      <th>Market Book Ratio</th>\n",
              "      <th>Assets Growth</th>\n",
              "      <th>Sales Growth</th>\n",
              "      <th>Employee Growth</th>\n",
              "    </tr>\n",
              "  </thead>\n",
              "  <tbody>\n",
              "    <tr>\n",
              "      <th>0</th>\n",
              "      <td>0.00</td>\n",
              "      <td>-0.15</td>\n",
              "      <td>-0.83</td>\n",
              "      <td>0.02</td>\n",
              "      <td>0.05</td>\n",
              "      <td>0.26</td>\n",
              "      <td>0.09</td>\n",
              "      <td>0.00</td>\n",
              "      <td>87.53</td>\n",
              "      <td>1.385960</td>\n",
              "      <td>1.976580</td>\n",
              "      <td>0.354789</td>\n",
              "    </tr>\n",
              "    <tr>\n",
              "      <th>1</th>\n",
              "      <td>1.45</td>\n",
              "      <td>0.22</td>\n",
              "      <td>0.36</td>\n",
              "      <td>0.06</td>\n",
              "      <td>0.00</td>\n",
              "      <td>1.41</td>\n",
              "      <td>0.04</td>\n",
              "      <td>0.07</td>\n",
              "      <td>19.13</td>\n",
              "      <td>0.187419</td>\n",
              "      <td>0.152865</td>\n",
              "      <td>0.205692</td>\n",
              "    </tr>\n",
              "    <tr>\n",
              "      <th>2</th>\n",
              "      <td>0.40</td>\n",
              "      <td>0.24</td>\n",
              "      <td>-0.01</td>\n",
              "      <td>0.05</td>\n",
              "      <td>0.76</td>\n",
              "      <td>1.90</td>\n",
              "      <td>0.03</td>\n",
              "      <td>0.04</td>\n",
              "      <td>21.80</td>\n",
              "      <td>1.386336</td>\n",
              "      <td>2.025004</td>\n",
              "      <td>0.354853</td>\n",
              "    </tr>\n",
              "  </tbody>\n",
              "</table>\n",
              "</div>"
            ],
            "text/plain": [
              "    EPS  Liquidity  Profitability  ...  Assets Growth  Sales Growth  Employee Growth\n",
              "0  0.00      -0.15          -0.83  ...       1.385960      1.976580         0.354789\n",
              "1  1.45       0.22           0.36  ...       0.187419      0.152865         0.205692\n",
              "2  0.40       0.24          -0.01  ...       1.386336      2.025004         0.354853\n",
              "\n",
              "[3 rows x 12 columns]"
            ]
          },
          "metadata": {
            "tags": []
          },
          "execution_count": 18
        }
      ]
    },
    {
      "cell_type": "code",
      "metadata": {
        "colab": {
          "base_uri": "https://localhost:8080/"
        },
        "id": "ic6dzSGJrahi",
        "outputId": "a4a604b3-a4fd-4e30-80b6-bbb05d8288c0"
      },
      "source": [
        "# see shapes\n",
        "counter = Counter(y_train)\n",
        "print('Training distribution:',counter)\n",
        "print('1:', y_train[y_train==1].count()/y_train.count() )\n",
        "print('0:', y_train[y_train==0].count()/y_train.count() )\n",
        "\n",
        "ycounter = Counter(y_test)\n",
        "print('Testing distribution:',ycounter)\n",
        "print('1:', y_test[y_test==1].count()/y_test.count() )\n",
        "print('0:', y_test[y_test==0].count()/y_test.count() )"
      ],
      "execution_count": 19,
      "outputs": [
        {
          "output_type": "stream",
          "text": [
            "Training distribution: Counter({0: 78438, 1: 475})\n",
            "1: 0.006019287062968079\n",
            "0: 0.9939807129370319\n",
            "Testing distribution: Counter({0: 13847, 1: 79})\n",
            "1: 0.005672842165733161\n",
            "0: 0.9943271578342668\n"
          ],
          "name": "stdout"
        }
      ]
    },
    {
      "cell_type": "code",
      "metadata": {
        "colab": {
          "base_uri": "https://localhost:8080/"
        },
        "id": "kV51QwrAfu55",
        "outputId": "855cca7c-8966-4686-80c5-b92d07552276"
      },
      "source": [
        "# transform the training dataset with smote /and under sampling\n",
        "oversample = SMOTE(sampling_strategy=0.08) #.1\n",
        "X_smote, y_smote = oversample.fit_resample(X_train_imp, y_train)\n",
        "counter = Counter(y_smote)\n",
        "print('New distribution:',counter)\n",
        "undersample = RandomUnderSampler(sampling_strategy=0.7) #.7\n",
        "X_smote_under, y_smote_under = undersample.fit_resample(X_smote, y_smote)\n",
        "counter = Counter(y_smote_under)\n",
        "print('New distribution:',counter)"
      ],
      "execution_count": 57,
      "outputs": [
        {
          "output_type": "stream",
          "text": [
            "New distribution: Counter({0: 78438, 1: 6275})\n",
            "New distribution: Counter({0: 8964, 1: 6275})\n"
          ],
          "name": "stdout"
        }
      ]
    },
    {
      "cell_type": "markdown",
      "metadata": {
        "id": "F1zbXY8Jg6IB"
      },
      "source": [
        "## Modeling"
      ]
    },
    {
      "cell_type": "code",
      "metadata": {
        "id": "ZdcAzXyhhXMB"
      },
      "source": [
        "# import packages\n",
        "from sklearn.model_selection import train_test_split\n",
        "from sklearn.ensemble import RandomForestClassifier\n",
        "from sklearn.model_selection import GridSearchCV\n",
        "from sklearn.metrics import confusion_matrix, classification_report\n",
        "from sklearn.pipeline import Pipeline\n",
        "from sklearn.preprocessing import PowerTransformer, MinMaxScaler\n",
        "# from sklearn.feature_selection import RFE"
      ],
      "execution_count": 58,
      "outputs": []
    },
    {
      "cell_type": "code",
      "metadata": {
        "colab": {
          "base_uri": "https://localhost:8080/"
        },
        "id": "hwlcxBkgmi4N",
        "outputId": "cbdd8b29-6192-4be8-f61c-65b73c6ae401"
      },
      "source": [
        "# try a model to make sure cleaned ok for next team member\n",
        "#stnd_scaler = StandardScaler()\n",
        "mm_scaler = MinMaxScaler()\n",
        "johnpt = PowerTransformer(method='yeo-johnson')\n",
        "rf = RandomForestClassifier(n_estimators=200)\n",
        "\n",
        "Pipe= Pipeline([('scale',mm_scaler),\n",
        "                   ('rf', rf)\n",
        "                   ])\n",
        "param_grid = {'rf__criterion': ('gini','entropy')\n",
        "              }\n",
        "model = GridSearchCV(Pipe,param_grid,cv=5,scoring='f1_micro')\n",
        "model.fit(X_smote_under,y_smote_under) #X_smote, y_smote\n",
        "print('\\n\\nBest Score:', model.best_score_,'\\n')\n",
        "print('Best parameters:', model.best_params_)"
      ],
      "execution_count": 59,
      "outputs": [
        {
          "output_type": "stream",
          "text": [
            "\n",
            "\n",
            "Best Score: 0.9570182624447954 \n",
            "\n",
            "Best parameters: {'rf__criterion': 'gini'}\n"
          ],
          "name": "stdout"
        }
      ]
    },
    {
      "cell_type": "code",
      "metadata": {
        "colab": {
          "base_uri": "https://localhost:8080/"
        },
        "id": "5oa5Y23Rtjk9",
        "outputId": "f28e4400-c0b2-490c-91bb-eba2d6784ad8"
      },
      "source": [
        "#impute\n",
        "'''\n",
        "nan = np.nan\n",
        "imputer = KNNImputer(n_neighbors=4, weights=\"distance\") \n",
        "v_array_imputed = imputer.fit_transform(X_test)\n",
        "X_test_imp = pd.DataFrame(v_array_imputed, columns = X_test.columns)\n",
        "print('Any nulls left?:', X_test_imp.isnull().values.sum(),'\\n')\n",
        "print('Testing shape:',X_test_imp.shape,'\\n')\n",
        "'''\n",
        "\n",
        "#impute with iterative imputer\n",
        "X_test_imp = imp.fit_transform(X_test)\n",
        "\n",
        "#predict\n",
        "pred = model.predict(X_test_imp)\n",
        "print('Confusion matrix:\\n',confusion_matrix(y_test, pred))\n",
        "print('\\nClassification report:\\n',classification_report(y_test, pred))\n",
        "# prooving credit upfront -> recall\n",
        "# else precision"
      ],
      "execution_count": 60,
      "outputs": [
        {
          "output_type": "stream",
          "text": [
            "Confusion matrix:\n",
            " [[13125   722]\n",
            " [   35    44]]\n",
            "\n",
            "Classification report:\n",
            "               precision    recall  f1-score   support\n",
            "\n",
            "           0       1.00      0.95      0.97     13847\n",
            "           1       0.06      0.56      0.10        79\n",
            "\n",
            "    accuracy                           0.95     13926\n",
            "   macro avg       0.53      0.75      0.54     13926\n",
            "weighted avg       0.99      0.95      0.97     13926\n",
            "\n"
          ],
          "name": "stdout"
        }
      ]
    }
  ]
}