{
  "nbformat": 4,
  "nbformat_minor": 0,
  "metadata": {
    "accelerator": "GPU",
    "colab": {
      "name": "Finance_Imputation_Modeling.ipynb",
      "provenance": [],
      "collapsed_sections": [],
      "toc_visible": true
    },
    "kernelspec": {
      "display_name": "Python 3",
      "name": "python3"
    },
    "language_info": {
      "name": "python"
    }
  },
  "cells": [
    {
      "cell_type": "markdown",
      "metadata": {
        "id": "xFnfjUqYg9CK"
      },
      "source": [
        "## Data prep."
      ]
    },
    {
      "cell_type": "code",
      "metadata": {
        "id": "k-ZFgZOusrHL"
      },
      "source": [
        "# import packages\n",
        "import pandas as pd\n",
        "import numpy as np\n",
        "from numpy import where\n",
        "from sklearn.impute import KNNImputer\n",
        "from collections import Counter\n",
        "from imblearn.over_sampling import SMOTE\n",
        "from imblearn.under_sampling import RandomUnderSampler\n",
        "from imblearn.pipeline import Pipeline\n",
        "import matplotlib.pyplot as plt\n",
        "from sklearn.preprocessing import StandardScaler, MinMaxScaler\n",
        "from warnings import simplefilter\n",
        "simplefilter(action='ignore', category=FutureWarning)\n",
        "from sklearn.model_selection import train_test_split"
      ],
      "execution_count": 53,
      "outputs": []
    },
    {
      "cell_type": "code",
      "metadata": {
        "id": "Ybmq16v2Qd3a"
      },
      "source": [
        "# connect the drive\n",
        "df = pd.read_excel('/content/drive/MyDrive/MMAI/Finance/Bankruptcy_data_Final.xlsx')"
      ],
      "execution_count": 2,
      "outputs": []
    },
    {
      "cell_type": "code",
      "metadata": {
        "colab": {
          "base_uri": "https://localhost:8080/",
          "height": 166
        },
        "id": "KVGH06WAReSO",
        "outputId": "39bb067f-fade-41ad-c954-37a26391fc8c"
      },
      "source": [
        "# look at shape\n",
        "print(df.shape)\n",
        "df.head(3)"
      ],
      "execution_count": 3,
      "outputs": [
        {
          "output_type": "stream",
          "text": [
            "(92872, 13)\n"
          ],
          "name": "stdout"
        },
        {
          "output_type": "execute_result",
          "data": {
            "text/html": [
              "<div>\n",
              "<style scoped>\n",
              "    .dataframe tbody tr th:only-of-type {\n",
              "        vertical-align: middle;\n",
              "    }\n",
              "\n",
              "    .dataframe tbody tr th {\n",
              "        vertical-align: top;\n",
              "    }\n",
              "\n",
              "    .dataframe thead th {\n",
              "        text-align: right;\n",
              "    }\n",
              "</style>\n",
              "<table border=\"1\" class=\"dataframe\">\n",
              "  <thead>\n",
              "    <tr style=\"text-align: right;\">\n",
              "      <th></th>\n",
              "      <th>EPS</th>\n",
              "      <th>Liquidity</th>\n",
              "      <th>Profitability</th>\n",
              "      <th>Productivity</th>\n",
              "      <th>Leverage Ratio</th>\n",
              "      <th>Asset Turnover</th>\n",
              "      <th>Operational Margin</th>\n",
              "      <th>Return on Equity</th>\n",
              "      <th>Market Book Ratio</th>\n",
              "      <th>Assets Growth</th>\n",
              "      <th>Sales Growth</th>\n",
              "      <th>Employee Growth</th>\n",
              "      <th>BK</th>\n",
              "    </tr>\n",
              "  </thead>\n",
              "  <tbody>\n",
              "    <tr>\n",
              "      <th>0</th>\n",
              "      <td>1.58</td>\n",
              "      <td>0.36</td>\n",
              "      <td>0.18</td>\n",
              "      <td>0.13</td>\n",
              "      <td>1.33</td>\n",
              "      <td>1.77</td>\n",
              "      <td>0.07</td>\n",
              "      <td>0.15</td>\n",
              "      <td>2.22</td>\n",
              "      <td>NaN</td>\n",
              "      <td>NaN</td>\n",
              "      <td>NaN</td>\n",
              "      <td>0</td>\n",
              "    </tr>\n",
              "    <tr>\n",
              "      <th>1</th>\n",
              "      <td>1.41</td>\n",
              "      <td>0.36</td>\n",
              "      <td>0.19</td>\n",
              "      <td>0.12</td>\n",
              "      <td>1.31</td>\n",
              "      <td>1.59</td>\n",
              "      <td>0.07</td>\n",
              "      <td>0.13</td>\n",
              "      <td>2.41</td>\n",
              "      <td>0.126319</td>\n",
              "      <td>0.014278</td>\n",
              "      <td>0.040179</td>\n",
              "      <td>0</td>\n",
              "    </tr>\n",
              "    <tr>\n",
              "      <th>2</th>\n",
              "      <td>0.31</td>\n",
              "      <td>0.32</td>\n",
              "      <td>0.13</td>\n",
              "      <td>0.08</td>\n",
              "      <td>1.03</td>\n",
              "      <td>1.55</td>\n",
              "      <td>0.05</td>\n",
              "      <td>0.04</td>\n",
              "      <td>2.56</td>\n",
              "      <td>0.368077</td>\n",
              "      <td>0.327909</td>\n",
              "      <td>0.566524</td>\n",
              "      <td>0</td>\n",
              "    </tr>\n",
              "  </tbody>\n",
              "</table>\n",
              "</div>"
            ],
            "text/plain": [
              "    EPS  Liquidity  Profitability  ...  Sales Growth  Employee Growth  BK\n",
              "0  1.58       0.36           0.18  ...           NaN              NaN   0\n",
              "1  1.41       0.36           0.19  ...      0.014278         0.040179   0\n",
              "2  0.31       0.32           0.13  ...      0.327909         0.566524   0\n",
              "\n",
              "[3 rows x 13 columns]"
            ]
          },
          "metadata": {
            "tags": []
          },
          "execution_count": 3
        }
      ]
    },
    {
      "cell_type": "code",
      "metadata": {
        "colab": {
          "base_uri": "https://localhost:8080/"
        },
        "id": "3yKM2EguruDm",
        "outputId": "66117ba8-19be-4543-d441-30ab1c784548"
      },
      "source": [
        "print('Full dataset target distribution...')\n",
        "print('1:', df['BK'][df['BK']==1].count(),',',df['BK'][df['BK']==1].count()/df['BK'].count() )\n",
        "print('0:', df['BK'][df['BK']==0].count(),',',df['BK'][df['BK']==0].count()/df['BK'].count() )"
      ],
      "execution_count": 4,
      "outputs": [
        {
          "output_type": "stream",
          "text": [
            "Full dataset target distribution...\n",
            "1: 558 , 0.00600826944611939\n",
            "0: 92314 , 0.9939917305538806\n"
          ],
          "name": "stdout"
        }
      ]
    },
    {
      "cell_type": "code",
      "metadata": {
        "colab": {
          "base_uri": "https://localhost:8080/"
        },
        "id": "HEvwL0hcRrzy",
        "outputId": "937652fc-888c-421f-f8e2-8316966cd108"
      },
      "source": [
        "# check out the columns\n",
        "print('Understanding columns...')\n",
        "for col in df.columns:\n",
        "  print(col,':')\n",
        "  print('Total nulls:',df[col].isnull().values.sum())\n",
        "  print('Min:',df[col].min())\n",
        "  print('Max:',df[col].max())\n",
        "  if df[col].isnull().values.sum() == 0:\n",
        "    print('All good for', col)\n",
        "  elif df[col].isnull().values.sum() <= 30:\n",
        "    print('Drop the nulls for', col,'\\n')\n",
        "  else:\n",
        "    print('Use imputation for', col,'\\n')"
      ],
      "execution_count": 5,
      "outputs": [
        {
          "output_type": "stream",
          "text": [
            "Understanding columns...\n",
            "EPS :\n",
            "Total nulls: 5\n",
            "Min: -384000.0\n",
            "Max: 55339.0\n",
            "Drop the nulls for EPS \n",
            "\n",
            "Liquidity :\n",
            "Total nulls: 247\n",
            "Min: -25968.52\n",
            "Max: 1.0\n",
            "Use imputation for Liquidity \n",
            "\n",
            "Profitability :\n",
            "Total nulls: 247\n",
            "Min: -79682.0\n",
            "Max: 140.58\n",
            "Use imputation for Profitability \n",
            "\n",
            "Productivity :\n",
            "Total nulls: 247\n",
            "Min: -5093.0\n",
            "Max: 1102.0\n",
            "Use imputation for Productivity \n",
            "\n",
            "Leverage Ratio :\n",
            "Total nulls: 26\n",
            "Min: -7811.0\n",
            "Max: 75970.38\n",
            "Drop the nulls for Leverage Ratio \n",
            "\n",
            "Asset Turnover :\n",
            "Total nulls: 247\n",
            "Min: -31.59\n",
            "Max: 276.38\n",
            "Use imputation for Asset Turnover \n",
            "\n",
            "Operational Margin :\n",
            "Total nulls: 5557\n",
            "Min: -30175.7\n",
            "Max: 394.47\n",
            "Use imputation for Operational Margin \n",
            "\n",
            "Return on Equity :\n",
            "Total nulls: 8\n",
            "Min: -88875.14\n",
            "Max: 39500.0\n",
            "Drop the nulls for Return on Equity \n",
            "\n",
            "Market Book Ratio :\n",
            "Total nulls: 57\n",
            "Min: -3151500.0\n",
            "Max: 3455419.33\n",
            "Use imputation for Market Book Ratio \n",
            "\n",
            "Assets Growth :\n",
            "Total nulls: 6701\n",
            "Min: -1.0\n",
            "Max: 14231.0\n",
            "Use imputation for Assets Growth \n",
            "\n",
            "Sales Growth :\n",
            "Total nulls: 6701\n",
            "Min: -27.43103448275862\n",
            "Max: 39850.0\n",
            "Use imputation for Sales Growth \n",
            "\n",
            "Employee Growth :\n",
            "Total nulls: 7010\n",
            "Min: -1.0\n",
            "Max: 2699.0\n",
            "Use imputation for Employee Growth \n",
            "\n",
            "BK :\n",
            "Total nulls: 0\n",
            "Min: 0\n",
            "Max: 1\n",
            "All good for BK\n"
          ],
          "name": "stdout"
        }
      ]
    },
    {
      "cell_type": "code",
      "metadata": {
        "colab": {
          "base_uri": "https://localhost:8080/"
        },
        "id": "5ob2gtFbUYDk",
        "outputId": "e1392496-ff99-4af1-bb21-d88e612be52c"
      },
      "source": [
        "# drop nulls where only a few missing\n",
        "df_a = df.dropna(subset=['Return on Equity','Leverage Ratio','EPS'])\n",
        "print(df_a.shape)"
      ],
      "execution_count": 6,
      "outputs": [
        {
          "output_type": "stream",
          "text": [
            "(92839, 13)\n"
          ],
          "name": "stdout"
        }
      ]
    },
    {
      "cell_type": "code",
      "metadata": {
        "colab": {
          "base_uri": "https://localhost:8080/"
        },
        "id": "vBdAfTZhaEKV",
        "outputId": "7ba1d2e3-7ea1-4e14-cff8-b5a36229c613"
      },
      "source": [
        "# impute the rest\n",
        "nan = np.nan\n",
        "imputer = KNNImputer(n_neighbors=4, weights=\"uniform\")\n",
        "array_imputed = imputer.fit_transform(df_a)\n",
        "df_imputed = pd.DataFrame(array_imputed, columns = df_a.columns)\n",
        "print('Any nulls left?:',df_imputed.isnull().values.sum())"
      ],
      "execution_count": 7,
      "outputs": [
        {
          "output_type": "stream",
          "text": [
            "Any nulls left?: 0\n"
          ],
          "name": "stdout"
        }
      ]
    },
    {
      "cell_type": "code",
      "metadata": {
        "colab": {
          "base_uri": "https://localhost:8080/",
          "height": 150
        },
        "id": "TBdQjNiBdQ4_",
        "outputId": "5213c89b-d0b2-473d-d1d8-c6fbbbc60304"
      },
      "source": [
        "# look at the imputed version\n",
        "df_imputed.head(3)"
      ],
      "execution_count": 8,
      "outputs": [
        {
          "output_type": "execute_result",
          "data": {
            "text/html": [
              "<div>\n",
              "<style scoped>\n",
              "    .dataframe tbody tr th:only-of-type {\n",
              "        vertical-align: middle;\n",
              "    }\n",
              "\n",
              "    .dataframe tbody tr th {\n",
              "        vertical-align: top;\n",
              "    }\n",
              "\n",
              "    .dataframe thead th {\n",
              "        text-align: right;\n",
              "    }\n",
              "</style>\n",
              "<table border=\"1\" class=\"dataframe\">\n",
              "  <thead>\n",
              "    <tr style=\"text-align: right;\">\n",
              "      <th></th>\n",
              "      <th>EPS</th>\n",
              "      <th>Liquidity</th>\n",
              "      <th>Profitability</th>\n",
              "      <th>Productivity</th>\n",
              "      <th>Leverage Ratio</th>\n",
              "      <th>Asset Turnover</th>\n",
              "      <th>Operational Margin</th>\n",
              "      <th>Return on Equity</th>\n",
              "      <th>Market Book Ratio</th>\n",
              "      <th>Assets Growth</th>\n",
              "      <th>Sales Growth</th>\n",
              "      <th>Employee Growth</th>\n",
              "      <th>BK</th>\n",
              "    </tr>\n",
              "  </thead>\n",
              "  <tbody>\n",
              "    <tr>\n",
              "      <th>0</th>\n",
              "      <td>1.58</td>\n",
              "      <td>0.36</td>\n",
              "      <td>0.18</td>\n",
              "      <td>0.13</td>\n",
              "      <td>1.33</td>\n",
              "      <td>1.77</td>\n",
              "      <td>0.07</td>\n",
              "      <td>0.15</td>\n",
              "      <td>2.22</td>\n",
              "      <td>0.133543</td>\n",
              "      <td>0.051761</td>\n",
              "      <td>0.033890</td>\n",
              "      <td>0.0</td>\n",
              "    </tr>\n",
              "    <tr>\n",
              "      <th>1</th>\n",
              "      <td>1.41</td>\n",
              "      <td>0.36</td>\n",
              "      <td>0.19</td>\n",
              "      <td>0.12</td>\n",
              "      <td>1.31</td>\n",
              "      <td>1.59</td>\n",
              "      <td>0.07</td>\n",
              "      <td>0.13</td>\n",
              "      <td>2.41</td>\n",
              "      <td>0.126319</td>\n",
              "      <td>0.014278</td>\n",
              "      <td>0.040179</td>\n",
              "      <td>0.0</td>\n",
              "    </tr>\n",
              "    <tr>\n",
              "      <th>2</th>\n",
              "      <td>0.31</td>\n",
              "      <td>0.32</td>\n",
              "      <td>0.13</td>\n",
              "      <td>0.08</td>\n",
              "      <td>1.03</td>\n",
              "      <td>1.55</td>\n",
              "      <td>0.05</td>\n",
              "      <td>0.04</td>\n",
              "      <td>2.56</td>\n",
              "      <td>0.368077</td>\n",
              "      <td>0.327909</td>\n",
              "      <td>0.566524</td>\n",
              "      <td>0.0</td>\n",
              "    </tr>\n",
              "  </tbody>\n",
              "</table>\n",
              "</div>"
            ],
            "text/plain": [
              "    EPS  Liquidity  Profitability  ...  Sales Growth  Employee Growth   BK\n",
              "0  1.58       0.36           0.18  ...      0.051761         0.033890  0.0\n",
              "1  1.41       0.36           0.19  ...      0.014278         0.040179  0.0\n",
              "2  0.31       0.32           0.13  ...      0.327909         0.566524  0.0\n",
              "\n",
              "[3 rows x 13 columns]"
            ]
          },
          "metadata": {
            "tags": []
          },
          "execution_count": 8
        }
      ]
    },
    {
      "cell_type": "code",
      "metadata": {
        "colab": {
          "base_uri": "https://localhost:8080/"
        },
        "id": "OstCRMoUqfVZ",
        "outputId": "e996d223-521b-4b7a-8265-fecbaca6fb89"
      },
      "source": [
        "# train test and validate\n",
        "validation_test = df_imputed.sample(frac = 0.2)\n",
        "training = df_imputed.drop(validation_test.index)\n",
        "y_train = training['BK']\n",
        "X_train = training.drop(columns=['BK'])\n",
        "y_validation_test = validation_test['BK']\n",
        "X_validation_test = validation_test.drop(columns=['BK'])\n",
        "X_test, X_val, y_val, y_test = train_test_split(X_validation_test,\n",
        "                                                y_validation_test, \n",
        "                                                test_size=0.5,\n",
        "                                                random_state=42)\n",
        "print('Training:',X_train.shape)\n",
        "print('Testing:',X_test.shape)\n",
        "print('Validation:',X_val.shape)"
      ],
      "execution_count": 31,
      "outputs": [
        {
          "output_type": "stream",
          "text": [
            "Training: (74271, 12)\n",
            "Testing: (9284, 12)\n",
            "Validation: (9284, 12)\n"
          ],
          "name": "stdout"
        }
      ]
    },
    {
      "cell_type": "code",
      "metadata": {
        "colab": {
          "base_uri": "https://localhost:8080/"
        },
        "id": "ic6dzSGJrahi",
        "outputId": "d37cd4ab-4572-4a40-e4d2-cf48bd2281da"
      },
      "source": [
        "# set features and target\n",
        "counter = Counter(y_train)\n",
        "print('Training distribution:',counter)\n",
        "print('1:', y_train[y_train==1].count()/y_train.count() )\n",
        "print('0:', y_train[y_train==0].count()/y_train.count() )"
      ],
      "execution_count": 32,
      "outputs": [
        {
          "output_type": "stream",
          "text": [
            "Training distribution: Counter({0.0: 73819, 1.0: 452})\n",
            "1: 0.0060858208452828156\n",
            "0: 0.9939141791547171\n"
          ],
          "name": "stdout"
        }
      ]
    },
    {
      "cell_type": "code",
      "metadata": {
        "colab": {
          "base_uri": "https://localhost:8080/"
        },
        "id": "kV51QwrAfu55",
        "outputId": "e28a8140-b331-4372-c72b-4ca6dcb2666c"
      },
      "source": [
        "# transform the dataset with smote /and under sampling\n",
        "oversample = SMOTE(sampling_strategy=0.3)\n",
        "X_smote, y_smote = oversample.fit_resample(X_train, y_train)\n",
        "counter = Counter(y_smote)\n",
        "print('New distribution:',counter)\n",
        "undersample = RandomUnderSampler(sampling_strategy=0.75)\n",
        "X_smote_under, y_smote_under = undersample.fit_resample(X_smote, y_smote)\n",
        "counter = Counter(y_smote_under)\n",
        "print('New distribution:',counter)"
      ],
      "execution_count": 45,
      "outputs": [
        {
          "output_type": "stream",
          "text": [
            "New distribution: Counter({0.0: 73819, 1.0: 22145})\n",
            "New distribution: Counter({0.0: 29526, 1.0: 22145})\n"
          ],
          "name": "stdout"
        }
      ]
    },
    {
      "cell_type": "markdown",
      "metadata": {
        "id": "F1zbXY8Jg6IB"
      },
      "source": [
        "## Modeling"
      ]
    },
    {
      "cell_type": "code",
      "metadata": {
        "id": "ZdcAzXyhhXMB"
      },
      "source": [
        "# import packages\n",
        "from sklearn.model_selection import train_test_split\n",
        "from sklearn.neighbors import KNeighborsClassifier\n",
        "from sklearn.ensemble import RandomForestClassifier\n",
        "from sklearn.model_selection import GridSearchCV\n",
        "from sklearn.metrics import confusion_matrix, classification_report\n",
        "from sklearn.pipeline import Pipeline\n",
        "#from sklearn.feature_selection import RFE"
      ],
      "execution_count": 56,
      "outputs": []
    },
    {
      "cell_type": "code",
      "metadata": {
        "colab": {
          "base_uri": "https://localhost:8080/"
        },
        "id": "hwlcxBkgmi4N",
        "outputId": "2caa4fad-1a56-41e0-d86c-0746e78ae962"
      },
      "source": [
        "# try a model to make sure cleaned ok for next team member\n",
        "stnd_scaler = StandardScaler()\n",
        "mm_scaler = MinMaxScaler()\n",
        "rf = RandomForestClassifier()\n",
        "\n",
        "Pipe= Pipeline([('scale',mm_scaler),\n",
        "                   ('rf', rf)\n",
        "                   ])\n",
        "param_grid = {'rf__criterion': ('gini','entropy')\n",
        "              }\n",
        "model = GridSearchCV(Pipe,param_grid,cv=10,scoring='f1_micro')\n",
        "model.fit(X_smote_under,y_smote_under)\n",
        "print('\\n\\nBest Score:', model.best_score_,'\\n')\n",
        "print('Best parameters:', model.best_params_)"
      ],
      "execution_count": 57,
      "outputs": [
        {
          "output_type": "stream",
          "text": [
            "\n",
            "\n",
            "Best Score: 0.9790405262978139 \n",
            "\n",
            "Best parameters: {'rf__criterion': 'gini'}\n"
          ],
          "name": "stdout"
        }
      ]
    },
    {
      "cell_type": "code",
      "metadata": {
        "colab": {
          "base_uri": "https://localhost:8080/"
        },
        "id": "5oa5Y23Rtjk9",
        "outputId": "2e6465bf-eeb3-4e6b-ea31-1e1f9ba4f42d"
      },
      "source": [
        "# check on test data\n",
        "pred = model.predict(X_test)\n",
        "print('Confusion matrix:\\n',confusion_matrix(y_test, pred))\n",
        "print('\\nClassification report:\\n',classification_report(y_test, pred))"
      ],
      "execution_count": 58,
      "outputs": [
        {
          "output_type": "stream",
          "text": [
            "Confusion matrix:\n",
            " [[8938  287]\n",
            " [  58    1]]\n",
            "\n",
            "Classification report:\n",
            "               precision    recall  f1-score   support\n",
            "\n",
            "         0.0       0.99      0.97      0.98      9225\n",
            "         1.0       0.00      0.02      0.01        59\n",
            "\n",
            "    accuracy                           0.96      9284\n",
            "   macro avg       0.50      0.49      0.49      9284\n",
            "weighted avg       0.99      0.96      0.97      9284\n",
            "\n"
          ],
          "name": "stdout"
        }
      ]
    },
    {
      "cell_type": "code",
      "metadata": {
        "colab": {
          "base_uri": "https://localhost:8080/"
        },
        "id": "kXbElYadt841",
        "outputId": "9f0e6a90-dc4f-4603-bbaf-2fc1e4d366f0"
      },
      "source": [
        "# and again on validation data\n",
        "pred = model.predict(X_val)\n",
        "print('Confusion matrix:\\n',confusion_matrix(y_val, pred))\n",
        "print('\\nClassification report:\\n',classification_report(y_val, pred))"
      ],
      "execution_count": 59,
      "outputs": [
        {
          "output_type": "stream",
          "text": [
            "Confusion matrix:\n",
            " [[9001  240]\n",
            " [  42    1]]\n",
            "\n",
            "Classification report:\n",
            "               precision    recall  f1-score   support\n",
            "\n",
            "         0.0       1.00      0.97      0.98      9241\n",
            "         1.0       0.00      0.02      0.01        43\n",
            "\n",
            "    accuracy                           0.97      9284\n",
            "   macro avg       0.50      0.50      0.50      9284\n",
            "weighted avg       0.99      0.97      0.98      9284\n",
            "\n"
          ],
          "name": "stdout"
        }
      ]
    }
  ]
}