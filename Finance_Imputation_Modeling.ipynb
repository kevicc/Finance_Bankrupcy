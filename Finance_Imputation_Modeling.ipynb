{
  "nbformat": 4,
  "nbformat_minor": 0,
  "metadata": {
    "accelerator": "GPU",
    "colab": {
      "name": "Finance_Imputation_Modeling.ipynb",
      "provenance": [],
      "collapsed_sections": []
    },
    "kernelspec": {
      "display_name": "Python 3",
      "name": "python3"
    },
    "language_info": {
      "name": "python"
    }
  },
  "cells": [
    {
      "cell_type": "markdown",
      "metadata": {
        "id": "xFnfjUqYg9CK"
      },
      "source": [
        "## Data prep."
      ]
    },
    {
      "cell_type": "code",
      "metadata": {
        "colab": {
          "base_uri": "https://localhost:8080/"
        },
        "id": "k-ZFgZOusrHL",
        "outputId": "d964787b-4d6a-4b2e-f138-0c350b0c4f94"
      },
      "source": [
        "# import packages\n",
        "import pandas as pd\n",
        "import numpy as np\n",
        "from numpy import where\n",
        "from sklearn.impute import KNNImputer\n",
        "from collections import Counter\n",
        "from imblearn.over_sampling import SMOTE\n",
        "from imblearn.under_sampling import RandomUnderSampler\n",
        "from imblearn.pipeline import Pipeline\n",
        "import matplotlib.pyplot as plt\n",
        "from sklearn.preprocessing import StandardScaler\n",
        "from warnings import simplefilter\n",
        "simplefilter(action='ignore', category=FutureWarning)"
      ],
      "execution_count": null,
      "outputs": [
        {
          "output_type": "stream",
          "text": [
            "/usr/local/lib/python3.7/dist-packages/sklearn/externals/six.py:31: FutureWarning: The module is deprecated in version 0.21 and will be removed in version 0.23 since we've dropped support for Python 2.7. Please rely on the official version of six (https://pypi.org/project/six/).\n",
            "  \"(https://pypi.org/project/six/).\", FutureWarning)\n",
            "/usr/local/lib/python3.7/dist-packages/sklearn/utils/deprecation.py:144: FutureWarning: The sklearn.neighbors.base module is  deprecated in version 0.22 and will be removed in version 0.24. The corresponding classes / functions should instead be imported from sklearn.neighbors. Anything that cannot be imported from sklearn.neighbors is now part of the private API.\n",
            "  warnings.warn(message, FutureWarning)\n"
          ],
          "name": "stderr"
        }
      ]
    },
    {
      "cell_type": "code",
      "metadata": {
        "id": "Ybmq16v2Qd3a"
      },
      "source": [
        "# connect the drive\n",
        "df = pd.read_excel('/content/drive/MyDrive/MMAI/Finance/Bankruptcy_data_Final.xlsx')"
      ],
      "execution_count": null,
      "outputs": []
    },
    {
      "cell_type": "code",
      "metadata": {
        "colab": {
          "base_uri": "https://localhost:8080/",
          "height": 166
        },
        "id": "KVGH06WAReSO",
        "outputId": "0570cf4f-8b76-452e-d72c-4a5b82f443b7"
      },
      "source": [
        "# look at shape\n",
        "print(df.shape)\n",
        "df.head(3)"
      ],
      "execution_count": null,
      "outputs": [
        {
          "output_type": "stream",
          "text": [
            "(92872, 13)\n"
          ],
          "name": "stdout"
        },
        {
          "output_type": "execute_result",
          "data": {
            "text/html": [
              "<div>\n",
              "<style scoped>\n",
              "    .dataframe tbody tr th:only-of-type {\n",
              "        vertical-align: middle;\n",
              "    }\n",
              "\n",
              "    .dataframe tbody tr th {\n",
              "        vertical-align: top;\n",
              "    }\n",
              "\n",
              "    .dataframe thead th {\n",
              "        text-align: right;\n",
              "    }\n",
              "</style>\n",
              "<table border=\"1\" class=\"dataframe\">\n",
              "  <thead>\n",
              "    <tr style=\"text-align: right;\">\n",
              "      <th></th>\n",
              "      <th>EPS</th>\n",
              "      <th>Liquidity</th>\n",
              "      <th>Profitability</th>\n",
              "      <th>Productivity</th>\n",
              "      <th>Leverage Ratio</th>\n",
              "      <th>Asset Turnover</th>\n",
              "      <th>Operational Margin</th>\n",
              "      <th>Return on Equity</th>\n",
              "      <th>Market Book Ratio</th>\n",
              "      <th>Assets Growth</th>\n",
              "      <th>Sales Growth</th>\n",
              "      <th>Employee Growth</th>\n",
              "      <th>BK</th>\n",
              "    </tr>\n",
              "  </thead>\n",
              "  <tbody>\n",
              "    <tr>\n",
              "      <th>0</th>\n",
              "      <td>1.58</td>\n",
              "      <td>0.36</td>\n",
              "      <td>0.18</td>\n",
              "      <td>0.13</td>\n",
              "      <td>1.33</td>\n",
              "      <td>1.77</td>\n",
              "      <td>0.07</td>\n",
              "      <td>0.15</td>\n",
              "      <td>2.22</td>\n",
              "      <td>NaN</td>\n",
              "      <td>NaN</td>\n",
              "      <td>NaN</td>\n",
              "      <td>0</td>\n",
              "    </tr>\n",
              "    <tr>\n",
              "      <th>1</th>\n",
              "      <td>1.41</td>\n",
              "      <td>0.36</td>\n",
              "      <td>0.19</td>\n",
              "      <td>0.12</td>\n",
              "      <td>1.31</td>\n",
              "      <td>1.59</td>\n",
              "      <td>0.07</td>\n",
              "      <td>0.13</td>\n",
              "      <td>2.41</td>\n",
              "      <td>0.126319</td>\n",
              "      <td>0.014278</td>\n",
              "      <td>0.040179</td>\n",
              "      <td>0</td>\n",
              "    </tr>\n",
              "    <tr>\n",
              "      <th>2</th>\n",
              "      <td>0.31</td>\n",
              "      <td>0.32</td>\n",
              "      <td>0.13</td>\n",
              "      <td>0.08</td>\n",
              "      <td>1.03</td>\n",
              "      <td>1.55</td>\n",
              "      <td>0.05</td>\n",
              "      <td>0.04</td>\n",
              "      <td>2.56</td>\n",
              "      <td>0.368077</td>\n",
              "      <td>0.327909</td>\n",
              "      <td>0.566524</td>\n",
              "      <td>0</td>\n",
              "    </tr>\n",
              "  </tbody>\n",
              "</table>\n",
              "</div>"
            ],
            "text/plain": [
              "    EPS  Liquidity  Profitability  ...  Sales Growth  Employee Growth  BK\n",
              "0  1.58       0.36           0.18  ...           NaN              NaN   0\n",
              "1  1.41       0.36           0.19  ...      0.014278         0.040179   0\n",
              "2  0.31       0.32           0.13  ...      0.327909         0.566524   0\n",
              "\n",
              "[3 rows x 13 columns]"
            ]
          },
          "metadata": {
            "tags": []
          },
          "execution_count": 3
        }
      ]
    },
    {
      "cell_type": "code",
      "metadata": {
        "colab": {
          "base_uri": "https://localhost:8080/"
        },
        "id": "3yKM2EguruDm",
        "outputId": "3d1f7ba5-ca6a-4e13-f5e5-f8862522b6c4"
      },
      "source": [
        "print('Full dataset target distribution...')\n",
        "print('1:', df['BK'][df['BK']==1].count(),',',df['BK'][df['BK']==1].count()/df['BK'].count() )\n",
        "print('0:', df['BK'][df['BK']==0].count(),',',df['BK'][df['BK']==0].count()/df['BK'].count() )"
      ],
      "execution_count": null,
      "outputs": [
        {
          "output_type": "stream",
          "text": [
            "Full dataset target distribution...\n",
            "1: 558 , 0.00600826944611939\n",
            "0: 92314 , 0.9939917305538806\n"
          ],
          "name": "stdout"
        }
      ]
    },
    {
      "cell_type": "code",
      "metadata": {
        "colab": {
          "base_uri": "https://localhost:8080/"
        },
        "id": "HEvwL0hcRrzy",
        "outputId": "f3de38d5-4d9c-4170-a68e-bd59364725b8"
      },
      "source": [
        "# check out the columns\n",
        "print('Understanding columns...')\n",
        "for col in df.columns:\n",
        "  print(col,':')\n",
        "  print('Total nulls:',df[col].isnull().values.sum())\n",
        "  print('Min:',df[col].min())\n",
        "  print('Max:',df[col].max())\n",
        "  if df[col].isnull().values.sum() == 0:\n",
        "    print('All good for', col)\n",
        "  elif df[col].isnull().values.sum() <= 30:\n",
        "    print('Drop the nulls for', col,'\\n')\n",
        "  else:\n",
        "    print('Use imputation for', col,'\\n')"
      ],
      "execution_count": null,
      "outputs": [
        {
          "output_type": "stream",
          "text": [
            "Understanding columns...\n",
            "EPS :\n",
            "Total nulls: 5\n",
            "Min: -384000.0\n",
            "Max: 55339.0\n",
            "Drop the nulls for EPS \n",
            "\n",
            "Liquidity :\n",
            "Total nulls: 247\n",
            "Min: -25968.52\n",
            "Max: 1.0\n",
            "Use imputation for Liquidity \n",
            "\n",
            "Profitability :\n",
            "Total nulls: 247\n",
            "Min: -79682.0\n",
            "Max: 140.58\n",
            "Use imputation for Profitability \n",
            "\n",
            "Productivity :\n",
            "Total nulls: 247\n",
            "Min: -5093.0\n",
            "Max: 1102.0\n",
            "Use imputation for Productivity \n",
            "\n",
            "Leverage Ratio :\n",
            "Total nulls: 26\n",
            "Min: -7811.0\n",
            "Max: 75970.38\n",
            "Drop the nulls for Leverage Ratio \n",
            "\n",
            "Asset Turnover :\n",
            "Total nulls: 247\n",
            "Min: -31.59\n",
            "Max: 276.38\n",
            "Use imputation for Asset Turnover \n",
            "\n",
            "Operational Margin :\n",
            "Total nulls: 5557\n",
            "Min: -30175.7\n",
            "Max: 394.47\n",
            "Use imputation for Operational Margin \n",
            "\n",
            "Return on Equity :\n",
            "Total nulls: 8\n",
            "Min: -88875.14\n",
            "Max: 39500.0\n",
            "Drop the nulls for Return on Equity \n",
            "\n",
            "Market Book Ratio :\n",
            "Total nulls: 57\n",
            "Min: -3151500.0\n",
            "Max: 3455419.33\n",
            "Use imputation for Market Book Ratio \n",
            "\n",
            "Assets Growth :\n",
            "Total nulls: 6701\n",
            "Min: -1.0\n",
            "Max: 14231.0\n",
            "Use imputation for Assets Growth \n",
            "\n",
            "Sales Growth :\n",
            "Total nulls: 6701\n",
            "Min: -27.43103448275862\n",
            "Max: 39850.0\n",
            "Use imputation for Sales Growth \n",
            "\n",
            "Employee Growth :\n",
            "Total nulls: 7010\n",
            "Min: -1.0\n",
            "Max: 2699.0\n",
            "Use imputation for Employee Growth \n",
            "\n",
            "BK :\n",
            "Total nulls: 0\n",
            "Min: 0\n",
            "Max: 1\n",
            "All good for BK\n"
          ],
          "name": "stdout"
        }
      ]
    },
    {
      "cell_type": "code",
      "metadata": {
        "colab": {
          "base_uri": "https://localhost:8080/"
        },
        "id": "5ob2gtFbUYDk",
        "outputId": "26ce1692-610d-4517-dc46-d0a2a93b16a9"
      },
      "source": [
        "# drop nulls where only a few missing\n",
        "df_a = df.dropna(subset=['Return on Equity','Leverage Ratio','EPS'])\n",
        "print(df_a.shape)"
      ],
      "execution_count": null,
      "outputs": [
        {
          "output_type": "stream",
          "text": [
            "(92839, 13)\n"
          ],
          "name": "stdout"
        }
      ]
    },
    {
      "cell_type": "code",
      "metadata": {
        "colab": {
          "base_uri": "https://localhost:8080/"
        },
        "id": "vBdAfTZhaEKV",
        "outputId": "190f3f70-b907-466a-a45d-a6c2b2e6d83e"
      },
      "source": [
        "# impute the rest\n",
        "nan = np.nan\n",
        "imputer = KNNImputer(n_neighbors=4, weights=\"uniform\")\n",
        "array_imputed = imputer.fit_transform(df_a)\n",
        "df_imputed = pd.DataFrame(array_imputed, columns = df_a.columns)\n",
        "print('Any nulls left?:',df_imputed.isnull().values.sum())"
      ],
      "execution_count": null,
      "outputs": [
        {
          "output_type": "stream",
          "text": [
            "Any nulls left?: 0\n"
          ],
          "name": "stdout"
        }
      ]
    },
    {
      "cell_type": "code",
      "metadata": {
        "colab": {
          "base_uri": "https://localhost:8080/",
          "height": 150
        },
        "id": "TBdQjNiBdQ4_",
        "outputId": "ef55d2db-ab2a-4e73-b739-c50d740c27cd"
      },
      "source": [
        "# look at the imputed version\n",
        "df_imputed.head(3)"
      ],
      "execution_count": null,
      "outputs": [
        {
          "output_type": "execute_result",
          "data": {
            "text/html": [
              "<div>\n",
              "<style scoped>\n",
              "    .dataframe tbody tr th:only-of-type {\n",
              "        vertical-align: middle;\n",
              "    }\n",
              "\n",
              "    .dataframe tbody tr th {\n",
              "        vertical-align: top;\n",
              "    }\n",
              "\n",
              "    .dataframe thead th {\n",
              "        text-align: right;\n",
              "    }\n",
              "</style>\n",
              "<table border=\"1\" class=\"dataframe\">\n",
              "  <thead>\n",
              "    <tr style=\"text-align: right;\">\n",
              "      <th></th>\n",
              "      <th>EPS</th>\n",
              "      <th>Liquidity</th>\n",
              "      <th>Profitability</th>\n",
              "      <th>Productivity</th>\n",
              "      <th>Leverage Ratio</th>\n",
              "      <th>Asset Turnover</th>\n",
              "      <th>Operational Margin</th>\n",
              "      <th>Return on Equity</th>\n",
              "      <th>Market Book Ratio</th>\n",
              "      <th>Assets Growth</th>\n",
              "      <th>Sales Growth</th>\n",
              "      <th>Employee Growth</th>\n",
              "      <th>BK</th>\n",
              "    </tr>\n",
              "  </thead>\n",
              "  <tbody>\n",
              "    <tr>\n",
              "      <th>0</th>\n",
              "      <td>1.58</td>\n",
              "      <td>0.36</td>\n",
              "      <td>0.18</td>\n",
              "      <td>0.13</td>\n",
              "      <td>1.33</td>\n",
              "      <td>1.77</td>\n",
              "      <td>0.07</td>\n",
              "      <td>0.15</td>\n",
              "      <td>2.22</td>\n",
              "      <td>0.133543</td>\n",
              "      <td>0.051761</td>\n",
              "      <td>0.033890</td>\n",
              "      <td>0.0</td>\n",
              "    </tr>\n",
              "    <tr>\n",
              "      <th>1</th>\n",
              "      <td>1.41</td>\n",
              "      <td>0.36</td>\n",
              "      <td>0.19</td>\n",
              "      <td>0.12</td>\n",
              "      <td>1.31</td>\n",
              "      <td>1.59</td>\n",
              "      <td>0.07</td>\n",
              "      <td>0.13</td>\n",
              "      <td>2.41</td>\n",
              "      <td>0.126319</td>\n",
              "      <td>0.014278</td>\n",
              "      <td>0.040179</td>\n",
              "      <td>0.0</td>\n",
              "    </tr>\n",
              "    <tr>\n",
              "      <th>2</th>\n",
              "      <td>0.31</td>\n",
              "      <td>0.32</td>\n",
              "      <td>0.13</td>\n",
              "      <td>0.08</td>\n",
              "      <td>1.03</td>\n",
              "      <td>1.55</td>\n",
              "      <td>0.05</td>\n",
              "      <td>0.04</td>\n",
              "      <td>2.56</td>\n",
              "      <td>0.368077</td>\n",
              "      <td>0.327909</td>\n",
              "      <td>0.566524</td>\n",
              "      <td>0.0</td>\n",
              "    </tr>\n",
              "  </tbody>\n",
              "</table>\n",
              "</div>"
            ],
            "text/plain": [
              "    EPS  Liquidity  Profitability  ...  Sales Growth  Employee Growth   BK\n",
              "0  1.58       0.36           0.18  ...      0.051761         0.033890  0.0\n",
              "1  1.41       0.36           0.19  ...      0.014278         0.040179  0.0\n",
              "2  0.31       0.32           0.13  ...      0.327909         0.566524  0.0\n",
              "\n",
              "[3 rows x 13 columns]"
            ]
          },
          "metadata": {
            "tags": []
          },
          "execution_count": 8
        }
      ]
    },
    {
      "cell_type": "code",
      "metadata": {
        "colab": {
          "base_uri": "https://localhost:8080/"
        },
        "id": "OstCRMoUqfVZ",
        "outputId": "9daa77f7-174f-455b-86f5-8d945fce0e32"
      },
      "source": [
        "# pull out 15% of data for validate after train and test before using smote\n",
        "validation = df_imputed.sample(frac = 0.2)\n",
        "training = df_imputed.drop(validation.index)\n",
        "print('Validate shape:',validation.shape)\n",
        "print('Train and test shape:',training.shape)"
      ],
      "execution_count": null,
      "outputs": [
        {
          "output_type": "stream",
          "text": [
            "Validate shape: (18568, 13)\n",
            "Train and test shape: (74271, 13)\n"
          ],
          "name": "stdout"
        }
      ]
    },
    {
      "cell_type": "code",
      "metadata": {
        "colab": {
          "base_uri": "https://localhost:8080/"
        },
        "id": "ic6dzSGJrahi",
        "outputId": "89249d5c-30f8-41ef-e7bd-286d9a70ffbe"
      },
      "source": [
        "# set features and target\n",
        "y = training['BK']\n",
        "X = training.drop(columns=['BK'])\n",
        "counter = Counter(y)\n",
        "print('Existing distribution for training (75% of entire dataset):',counter)\n",
        "print('1:', training['BK'][training['BK']==1].count()/training['BK'].count() )\n",
        "print('0:', training['BK'][training['BK']==0].count()/training['BK'].count() )"
      ],
      "execution_count": null,
      "outputs": [
        {
          "output_type": "stream",
          "text": [
            "Existing distribution for training (75% of entire dataset): Counter({0.0: 73836, 1.0: 435})\n",
            "1: 0.005856929353314214\n",
            "0: 0.9941430706466858\n"
          ],
          "name": "stdout"
        }
      ]
    },
    {
      "cell_type": "code",
      "metadata": {
        "colab": {
          "base_uri": "https://localhost:8080/"
        },
        "id": "kV51QwrAfu55",
        "outputId": "4846a2c1-3f19-481d-cfca-bdb7b6f16b2d"
      },
      "source": [
        "# transform the dataset with smote /and under sampling\n",
        "oversample = SMOTE()#sampling_strategy=0.5)\n",
        "X_smote, y_smote = oversample.fit_resample(X, y)\n",
        "counter = Counter(y_smote)\n",
        "print('New distribution:',counter)\n",
        "#undersample = RandomUnderSampler(sampling_strategy=0.8)\n",
        "#X_smote_under, y_smote_under = undersample.fit_resample(X_smote, y_smote)\n",
        "#counter = Counter(y_smote_under)\n",
        "#print('New distribution:',counter)"
      ],
      "execution_count": null,
      "outputs": [
        {
          "output_type": "stream",
          "text": [
            "New distribution: Counter({0.0: 73836, 1.0: 73836})\n"
          ],
          "name": "stdout"
        }
      ]
    },
    {
      "cell_type": "markdown",
      "metadata": {
        "id": "F1zbXY8Jg6IB"
      },
      "source": [
        "## Modeling"
      ]
    },
    {
      "cell_type": "code",
      "metadata": {
        "id": "ZdcAzXyhhXMB"
      },
      "source": [
        "# import packages\n",
        "from sklearn.model_selection import train_test_split\n",
        "from sklearn.neighbors import KNeighborsClassifier\n",
        "from sklearn.feature_selection import SelectKBest\n",
        "from sklearn.model_selection import GridSearchCV\n",
        "from sklearn.metrics import confusion_matrix, classification_report\n",
        "from sklearn.pipeline import Pipeline\n",
        "from sklearn.feature_selection import RFE"
      ],
      "execution_count": null,
      "outputs": []
    },
    {
      "cell_type": "code",
      "metadata": {
        "id": "jzMPSGzumg6S"
      },
      "source": [
        "# train test split\n",
        "X_train, X_test, y_train, y_test = train_test_split(X_smote,y_smote, #_under\n",
        "                                                    test_size=0.2,\n",
        "                                                    random_state=42)"
      ],
      "execution_count": null,
      "outputs": []
    },
    {
      "cell_type": "code",
      "metadata": {
        "colab": {
          "background_save": true
        },
        "id": "hwlcxBkgmi4N",
        "outputId": "1544b2ee-0ab6-4040-8c69-28e05cccc3a7"
      },
      "source": [
        "# try KNN for validation that cleaned okay\n",
        "stnd_scaler = StandardScaler()\n",
        "skb = SelectKBest()\n",
        "KNN = KNeighborsClassifier()\n",
        "\n",
        "Pipe= Pipeline([('scale',stnd_scaler),\n",
        "                   ('skb',skb),\n",
        "                   ('KNN',KNN)\n",
        "                   ])\n",
        "param_grid = {'skb__k':(5,6,7,8),     \n",
        "              'KNN__weights': ('uniform','distance'),\n",
        "              'KNN__metric': ('euclidean','manhattan')\n",
        "              }\n",
        "model = GridSearchCV(Pipe,param_grid,cv=10,scoring='f1_micro')\n",
        "model.fit(X_train,y_train)\n",
        "print('\\n\\nBest Score:', model.best_score_,'\\n')\n",
        "print('Best parameters:', model.best_params_)"
      ],
      "execution_count": null,
      "outputs": [
        {
          "output_type": "stream",
          "text": [
            "\n",
            "\n",
            "Best Score: 0.9299457865718546 \n",
            "\n",
            "Best parameters: {'KNN__metric': 'manhattan', 'KNN__weights': 'distance', 'skb__k': 8}\n"
          ],
          "name": "stdout"
        }
      ]
    },
    {
      "cell_type": "code",
      "metadata": {
        "colab": {
          "background_save": true
        },
        "id": "5oa5Y23Rtjk9",
        "outputId": "fca2be1c-10dd-46de-cb36-74401c242836"
      },
      "source": [
        "# check on test data\n",
        "pred = model.predict(X_test)\n",
        "print('Confusion matrix:\\n',confusion_matrix(y_test, pred))\n",
        "print('\\nClassification report:\\n',classification_report(y_test, pred))"
      ],
      "execution_count": null,
      "outputs": [
        {
          "output_type": "stream",
          "text": [
            "Confusion matrix:\n",
            " [[13188  1505]\n",
            " [  531 14311]]\n",
            "\n",
            "Classification report:\n",
            "               precision    recall  f1-score   support\n",
            "\n",
            "         0.0       0.96      0.90      0.93     14693\n",
            "         1.0       0.90      0.96      0.93     14842\n",
            "\n",
            "    accuracy                           0.93     29535\n",
            "   macro avg       0.93      0.93      0.93     29535\n",
            "weighted avg       0.93      0.93      0.93     29535\n",
            "\n"
          ],
          "name": "stdout"
        }
      ]
    },
    {
      "cell_type": "code",
      "metadata": {
        "colab": {
          "background_save": true
        },
        "id": "kXbElYadt841",
        "outputId": "049cd19b-105d-439a-a3e2-1d9ea71b020b"
      },
      "source": [
        "# now, be absolutely sure! check on validation data \n",
        "y_val = validation['BK']\n",
        "X_val = validation.drop(columns=['BK'])\n",
        "pred = model.predict(X_val)\n",
        "print('Confusion matrix:\\n',confusion_matrix(y_val, pred))\n",
        "print('\\nClassification report:\\n',classification_report(y_val, pred))"
      ],
      "execution_count": null,
      "outputs": [
        {
          "output_type": "stream",
          "text": [
            "Confusion matrix:\n",
            " [[16611  1838]\n",
            " [   46    73]]\n",
            "\n",
            "Classification report:\n",
            "               precision    recall  f1-score   support\n",
            "\n",
            "         0.0       1.00      0.90      0.95     18449\n",
            "         1.0       0.04      0.61      0.07       119\n",
            "\n",
            "    accuracy                           0.90     18568\n",
            "   macro avg       0.52      0.76      0.51     18568\n",
            "weighted avg       0.99      0.90      0.94     18568\n",
            "\n"
          ],
          "name": "stdout"
        }
      ]
    }
  ]
}